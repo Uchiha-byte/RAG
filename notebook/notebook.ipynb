{
 "cells": [
  {
   "cell_type": "markdown",
   "id": "57a62ea0",
   "metadata": {},
   "source": [
    "### Data Ingestion"
   ]
  },
  {
   "cell_type": "code",
   "execution_count": 14,
   "id": "f956fbed",
   "metadata": {},
   "outputs": [],
   "source": [
    "#### Doc Data Structure\n",
    "\n",
    "from langchain_core.documents import Document"
   ]
  },
  {
   "cell_type": "code",
   "execution_count": null,
   "id": "8004af9c",
   "metadata": {},
   "outputs": [
    {
     "name": "stdout",
     "output_type": "stream",
     "text": [
      "page_content='This is the content of the document.' metadata={'source': 'example.txt', 'pages': 1, 'author': 'Ans Khan'}\n"
     ]
    }
   ],
   "source": [
    "doc = Document(\n",
    "    page_content=\"This is the main content of the document.\",\n",
    "    metadata={\n",
    "        \"source\": \"example.txt\",\n",
    "        \"pages\":1,\n",
    "        \"author\": \"Ans Khan\"\n",
    "            }\n",
    "            )\n",
    "print(doc)"
   ]
  },
  {
   "cell_type": "code",
   "execution_count": 17,
   "id": "adbed5b1",
   "metadata": {},
   "outputs": [],
   "source": [
    "# Create a simple txt file\n",
    "import os\n",
    "os.makedirs(\"../data/text_files\", exist_ok=True)"
   ]
  },
  {
   "cell_type": "code",
   "execution_count": 18,
   "id": "8c098a88",
   "metadata": {},
   "outputs": [
    {
     "name": "stdout",
     "output_type": "stream",
     "text": [
      "✅ Sample text files created!\n"
     ]
    }
   ],
   "source": [
    "sample_texts={\n",
    "    \"../data/text_files/python_intro.txt\":\"\"\"Python Programming Introduction\n",
    "\n",
    "Python is a high-level, interpreted programming language known for its simplicity and readability.\n",
    "Created by Guido van Rossum and first released in 1991, Python has become one of the most popular\n",
    "programming languages in the world.\n",
    "\n",
    "Key Features:\n",
    "- Easy to learn and use\n",
    "- Extensive standard library\n",
    "- Cross-platform compatibility\n",
    "- Strong community support\n",
    "\n",
    "Python is widely used in web development, data science, artificial intelligence, and automation.\"\"\",\n",
    "    \n",
    "    \"../data/text_files/machine_learning.txt\": \"\"\"Machine Learning Basics\n",
    "\n",
    "Machine learning is a subset of artificial intelligence that enables systems to learn and improve\n",
    "from experience without being explicitly programmed. It focuses on developing computer programs\n",
    "that can access data and use it to learn for themselves.\n",
    "\n",
    "Types of Machine Learning:\n",
    "1. Supervised Learning: Learning with labeled data\n",
    "2. Unsupervised Learning: Finding patterns in unlabeled data\n",
    "3. Reinforcement Learning: Learning through rewards and penalties\n",
    "\n",
    "Applications include image recognition, speech processing, and recommendation systems\n",
    "    \n",
    "    \n",
    "    \"\"\"\n",
    "\n",
    "}\n",
    "for filepath,content in sample_texts.items():\n",
    "    with open(filepath,'w',encoding=\"utf-8\") as f:\n",
    "        f.write(content)\n",
    "\n",
    "print(\"✅ Sample text files created!\")"
   ]
  },
  {
   "cell_type": "code",
   "execution_count": 19,
   "id": "6d07e391",
   "metadata": {},
   "outputs": [
    {
     "name": "stdout",
     "output_type": "stream",
     "text": [
      "[Document(metadata={'source': '../data/text_files/python_intro.txt'}, page_content='Python Programming Introduction\\n\\nPython is a high-level, interpreted programming language known for its simplicity and readability.\\nCreated by Guido van Rossum and first released in 1991, Python has become one of the most popular\\nprogramming languages in the world.\\n\\nKey Features:\\n- Easy to learn and use\\n- Extensive standard library\\n- Cross-platform compatibility\\n- Strong community support\\n\\nPython is widely used in web development, data science, artificial intelligence, and automation.')]\n"
     ]
    }
   ],
   "source": [
    "### TextLoader\n",
    "from langchain.document_loaders import TextLoader\n",
    "\n",
    "from langchain_community.document_loaders import TextLoader\n",
    "\n",
    "loader=TextLoader(\"../data/text_files/python_intro.txt\",encoding=\"utf-8\")\n",
    "document=loader.load()\n",
    "print(document)"
   ]
  },
  {
   "cell_type": "code",
   "execution_count": 20,
   "id": "0eeba4ea",
   "metadata": {},
   "outputs": [
    {
     "data": {
      "text/plain": [
       "[Document(metadata={'source': '..\\\\data\\\\text_files\\\\machine_learning.txt'}, page_content='Machine Learning Basics\\n\\nMachine learning is a subset of artificial intelligence that enables systems to learn and improve\\nfrom experience without being explicitly programmed. It focuses on developing computer programs\\nthat can access data and use it to learn for themselves.\\n\\nTypes of Machine Learning:\\n1. Supervised Learning: Learning with labeled data\\n2. Unsupervised Learning: Finding patterns in unlabeled data\\n3. Reinforcement Learning: Learning through rewards and penalties\\n\\nApplications include image recognition, speech processing, and recommendation systems\\n\\n\\n    '),\n",
       " Document(metadata={'source': '..\\\\data\\\\text_files\\\\python_intro.txt'}, page_content='Python Programming Introduction\\n\\nPython is a high-level, interpreted programming language known for its simplicity and readability.\\nCreated by Guido van Rossum and first released in 1991, Python has become one of the most popular\\nprogramming languages in the world.\\n\\nKey Features:\\n- Easy to learn and use\\n- Extensive standard library\\n- Cross-platform compatibility\\n- Strong community support\\n\\nPython is widely used in web development, data science, artificial intelligence, and automation.')]"
      ]
     },
     "execution_count": 20,
     "metadata": {},
     "output_type": "execute_result"
    }
   ],
   "source": [
    "### Directory Loader\n",
    "from langchain_community.document_loaders import DirectoryLoader\n",
    "\n",
    "## load all the text files from the directory\n",
    "dir_loader=DirectoryLoader(\n",
    "    \"../data/text_files\",\n",
    "    glob=\"**/*.txt\", ## Pattern to match files  \n",
    "    loader_cls= TextLoader, ##loader class to use\n",
    "    loader_kwargs={'encoding': 'utf-8'},\n",
    "    show_progress=False\n",
    "\n",
    ")\n",
    "\n",
    "documents=dir_loader.load()\n",
    "documents"
   ]
  },
  {
   "cell_type": "code",
   "execution_count": 22,
   "id": "db6f18df",
   "metadata": {},
   "outputs": [
    {
     "data": {
      "text/plain": [
       "[Document(metadata={'producer': 'www.ilovepdf.com', 'creator': 'Microsoft® Word 2016', 'creationdate': '2025-09-11T13:57:05+00:00', 'source': '..\\\\data\\\\pdf\\\\ERP.pdf', 'file_path': '..\\\\data\\\\pdf\\\\ERP.pdf', 'total_pages': 2, 'format': 'PDF 1.5', 'title': '', 'author': 'Ans Khan', 'subject': '', 'keywords': '', 'moddate': '2025-09-11T13:57:05+00:00', 'trapped': '', 'modDate': 'D:20250911135705Z', 'creationDate': \"D:20250911135705+00'00'\", 'page': 0}, page_content='ERP-based Integrated Student Management System (ISMS) \\nUsing LEO satellite connectivity + modem for internet access \\n(instead of expensive fiber / terrestrial lines) \\n1. Project Concept \\nYou’re solving the problem of fragmented records (admission, fees, hostel, exams) in \\ncolleges by creating a low-cost ERP solution built on cloud office tools + satellite internet \\nfor connectivity. \\nCore Features \\n\\uf0b7 \\nAdmissions → Online forms feed data into a central database. \\n\\uf0b7 \\nFees → Auto-generated receipts + linked to student records. \\n\\uf0b7 \\nHostel/Library → Real-time occupancy tracking, record updates. \\n\\uf0b7 \\nExams → Marks entry, attempts, result generation. \\n\\uf0b7 \\nDashboards → Key performance indicators for administrators. \\n\\uf0b7 \\nSecurity → Role-based access, backups, and audit trails. \\n2. Infrastructure (with LEO Satellites) \\n**Since some colleges (especially rural or remote) lack reliable internet, your ERP will run \\nvia satellite modem + LEO satellites. \\nRequirements \\n1. Receiver Dish + Modem \\no Provided by satellite ISP (e.g., Starlink Kit). \\no Connects to router → Wi-Fi/LAN → ERP system. \\n2. Cloud Office Suite \\no Google Workspace (Sheets, Forms, Apps Script, Data Studio). \\no Microsoft 365 (Excel Online, Power Automate, Power BI). \\no Open-source alternatives (Nextcloud + OnlyOffice). \\n3. Backend Database (if needed) \\no Google Sheets (lightweight, free). \\no Airtable / Supabase  \\no MySQL/PostgreSQL on a cloud VM (if ERP grows).'),\n",
       " Document(metadata={'producer': 'www.ilovepdf.com', 'creator': 'Microsoft® Word 2016', 'creationdate': '2025-09-11T13:57:05+00:00', 'source': '..\\\\data\\\\pdf\\\\ERP.pdf', 'file_path': '..\\\\data\\\\pdf\\\\ERP.pdf', 'total_pages': 2, 'format': 'PDF 1.5', 'title': '', 'author': 'Ans Khan', 'subject': '', 'keywords': '', 'moddate': '2025-09-11T13:57:05+00:00', 'trapped': '', 'modDate': 'D:20250911135705Z', 'creationDate': \"D:20250911135705+00'00'\", 'page': 1}, page_content='3. Workflow Integration \\n1. Admission Intake → Google Forms → central student database (Google \\nSheets/Airtable). \\n2. Fee Collection → Payment integration (UPI/PayPal/Razorpay) → Auto receipt → \\nUpdates central DB. \\n3. Hostel Allocation → Online form + auto seat availability update in DB. \\n4. Library/Exams → Staff enter marks, book loans, etc. → Updates same DB. \\n5. Dashboards → Google Data Studio / Power BI → Real-time analytics. \\n6. Connectivity → All data syncs through LEO satellite internet → Works in remote \\ncolleges. \\n4. Challenges & Solutions \\nChallenge \\nWhy it matters \\nPossible Solution \\nLatency & \\nBandwidth \\nEven LEO has 30–50 ms latency; bulk \\ndata transfer could slow. \\nUse lightweight apps (Sheets, Forms, \\ndashboards) instead of heavy ERP software. \\nPower \\nBackup \\nSatellite modem + router need power. Use UPS/solar backup for rural colleges. \\nData \\nSecurity \\nStudent & financial data are sensitive. Role-based access + encrypted cloud \\nstorage. \\nTraining \\nStaff \\nMany staff are only used to ledgers. \\nKeep UI simple, provide short training. \\nCost \\nProprietary ERP is expensive. \\nUse free/low-cost cloud office suites + \\nexisting satellite kits. \\n4. Expected Outcome  \\nA prototype ERP system using Google Workspace / Microsoft 365. \\n\\uf0b7 \\nReal-time dashboards showing admissions, fees, hostel, exams. \\n\\uf0b7 \\nDemonstration that satellite internet makes it accessible anywhere, especially for \\nrural/public colleges. \\n\\uf0b7 \\nCost-effective → No servers, no expensive ERP license, just modem + dish + cloud \\napps.')]"
      ]
     },
     "execution_count": 22,
     "metadata": {},
     "output_type": "execute_result"
    }
   ],
   "source": [
    "## For PDF files\n",
    "from langchain_community.document_loaders import PyPDFLoader, PyMuPDFLoader\n",
    "\n",
    "## load all the text files from the directory\n",
    "dir_loader=DirectoryLoader(\n",
    "    \"../data/pdf\",\n",
    "    glob=\"**/*.pdf\", ## Pattern to match files  \n",
    "    loader_cls= PyMuPDFLoader, ##loader class to use\n",
    "    show_progress=False\n",
    "\n",
    ")\n",
    "\n",
    "pdf_documents=dir_loader.load()\n",
    "pdf_documents\n"
   ]
  },
  {
   "cell_type": "markdown",
   "id": "912442dc",
   "metadata": {},
   "source": [
    "### Enbeedings and VectorstoreDB"
   ]
  },
  {
   "cell_type": "code",
   "execution_count": null,
   "id": "38914d75",
   "metadata": {},
   "outputs": [
    {
     "ename": "NameError",
     "evalue": "name 'chunks' is not defined",
     "output_type": "error",
     "traceback": [
      "\u001b[31m---------------------------------------------------------------------------\u001b[39m",
      "\u001b[31mNameError\u001b[39m                                 Traceback (most recent call last)",
      "\u001b[36mCell\u001b[39m\u001b[36m \u001b[39m\u001b[32mIn[23]\u001b[39m\u001b[32m, line 1\u001b[39m\n\u001b[32m----> \u001b[39m\u001b[32m1\u001b[39m \u001b[43mchunks\u001b[49m\n",
      "\u001b[31mNameError\u001b[39m: name 'chunks' is not defined"
     ]
    }
   ],
   "source": []
  }
 ],
 "metadata": {
  "kernelspec": {
   "display_name": "RAG",
   "language": "python",
   "name": "python3"
  },
  "language_info": {
   "codemirror_mode": {
    "name": "ipython",
    "version": 3
   },
   "file_extension": ".py",
   "mimetype": "text/x-python",
   "name": "python",
   "nbconvert_exporter": "python",
   "pygments_lexer": "ipython3",
   "version": "3.13.7"
  }
 },
 "nbformat": 4,
 "nbformat_minor": 5
}
