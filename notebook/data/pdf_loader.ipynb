{
 "cells": [
  {
   "cell_type": "markdown",
   "id": "c7985571",
   "metadata": {},
   "source": [
    "### RAG Pipelines- Data Ingestion to Vector DB Pipeline"
   ]
  },
  {
   "cell_type": "markdown",
   "id": "0535f98a",
   "metadata": {},
   "source": []
  },
  {
   "cell_type": "code",
   "execution_count": 1,
   "id": "855872cd",
   "metadata": {},
   "outputs": [
    {
     "name": "stderr",
     "output_type": "stream",
     "text": [
      "d:\\RAG\\.venv\\Lib\\site-packages\\tqdm\\auto.py:21: TqdmWarning: IProgress not found. Please update jupyter and ipywidgets. See https://ipywidgets.readthedocs.io/en/stable/user_install.html\n",
      "  from .autonotebook import tqdm as notebook_tqdm\n"
     ]
    }
   ],
   "source": [
    "import os\n",
    "from langchain_community.document_loaders import PyPDFLoader, PyMuPDFLoader\n",
    "from langchain.text_splitter import RecursiveCharacterTextSplitter\n",
    "from pathlib import Path"
   ]
  },
  {
   "cell_type": "code",
   "execution_count": 2,
   "id": "3dd4604b",
   "metadata": {},
   "outputs": [
    {
     "name": "stdout",
     "output_type": "stream",
     "text": [
      "Found 1 PDF files to process\n",
      "\n",
      "Processing: ERP.pdf\n",
      "  ✓ Loaded 2 pages\n",
      "\n",
      "Total documents loaded: 2\n"
     ]
    }
   ],
   "source": [
    "### Read all the pdf's inside the directory\n",
    "def process_all_pdfs(pdf_directory):\n",
    "    \"\"\"Process all PDF files in a directory\"\"\"\n",
    "    all_documents = []\n",
    "    pdf_dir = Path(pdf_directory)\n",
    "    \n",
    "    # Find all PDF files recursively\n",
    "    pdf_files = list(pdf_dir.glob(\"**/*.pdf\"))\n",
    "    \n",
    "    print(f\"Found {len(pdf_files)} PDF files to process\")\n",
    "    \n",
    "    for pdf_file in pdf_files:\n",
    "        print(f\"\\nProcessing: {pdf_file.name}\")\n",
    "        try:\n",
    "            loader = PyPDFLoader(str(pdf_file))\n",
    "            documents = loader.load()\n",
    "            \n",
    "            # Add source information to metadata\n",
    "            for doc in documents:\n",
    "                doc.metadata['source_file'] = pdf_file.name\n",
    "                doc.metadata['file_type'] = 'pdf'\n",
    "            \n",
    "            all_documents.extend(documents)\n",
    "            print(f\"  ✓ Loaded {len(documents)} pages\")\n",
    "            \n",
    "        except Exception as e:\n",
    "            print(f\"  ✗ Error: {e}\")\n",
    "    \n",
    "    print(f\"\\nTotal documents loaded: {len(all_documents)}\")\n",
    "    return all_documents\n",
    "\n",
    "# Process all PDFs in the data directory\n",
    "all_pdf_documents = process_all_pdfs(\"../data\")"
   ]
  },
  {
   "cell_type": "code",
   "execution_count": 3,
   "id": "e1939578",
   "metadata": {},
   "outputs": [],
   "source": [
    "import numpy as np\n",
    "from sentence_transformers import SentenceTransformer\n",
    "import chromadb\n",
    "from chromadb.config import Settings\n",
    "import uuid\n",
    "from typing import List, Dict, Any, Tuple\n",
    "from sklearn.metrics.pairwise import cosine_similarity"
   ]
  },
  {
   "cell_type": "code",
   "execution_count": 4,
   "id": "d4fb9dc6",
   "metadata": {},
   "outputs": [],
   "source": [
    "### Text splitting get into chunks\n",
    "\n",
    "def split_documents(documents,chunk_size=1000,chunk_overlap=200):\n",
    "    \"\"\"Split documents into smaller chunks for better RAG performance\"\"\"\n",
    "    text_splitter = RecursiveCharacterTextSplitter(\n",
    "        chunk_size=chunk_size,\n",
    "        chunk_overlap=chunk_overlap,\n",
    "        length_function=len,\n",
    "        separators=[\"\\n\\n\", \"\\n\", \" \", \"\"]\n",
    "    )\n",
    "    split_docs = text_splitter.split_documents(documents)\n",
    "    print(f\"Split {len(documents)} documents into {len(split_docs)} chunks\")\n",
    "    \n",
    "    # Show example of a chunk\n",
    "    if split_docs:\n",
    "        print(f\"\\nExample chunk:\")\n",
    "        print(f\"Content: {split_docs[0].page_content[:200]}...\")\n",
    "        print(f\"Metadata: {split_docs[0].metadata}\")\n",
    "    \n",
    "    return split_docs"
   ]
  },
  {
   "cell_type": "code",
   "execution_count": 5,
   "id": "9d19545e",
   "metadata": {},
   "outputs": [
    {
     "name": "stdout",
     "output_type": "stream",
     "text": [
      "Split 2 documents into 4 chunks\n",
      "\n",
      "Example chunk:\n",
      "Content: ERP-based Integrated Student Management System (ISMS) \n",
      "Using LEO satellite connectivity + modem for internet access \n",
      "(instead of expensive fiber / terrestrial lines) \n",
      "1. Project Concept \n",
      "You’re solvin...\n",
      "Metadata: {'producer': 'www.ilovepdf.com', 'creator': 'Microsoft® Word 2016', 'creationdate': '2025-09-11T13:57:05+00:00', 'author': 'Ans Khan', 'moddate': '2025-09-11T13:57:05+00:00', 'source': '..\\\\data\\\\ERP.pdf', 'total_pages': 2, 'page': 0, 'page_label': '1', 'source_file': 'ERP.pdf', 'file_type': 'pdf'}\n"
     ]
    },
    {
     "data": {
      "text/plain": [
       "[Document(metadata={'producer': 'www.ilovepdf.com', 'creator': 'Microsoft® Word 2016', 'creationdate': '2025-09-11T13:57:05+00:00', 'author': 'Ans Khan', 'moddate': '2025-09-11T13:57:05+00:00', 'source': '..\\\\data\\\\ERP.pdf', 'total_pages': 2, 'page': 0, 'page_label': '1', 'source_file': 'ERP.pdf', 'file_type': 'pdf'}, page_content='ERP-based Integrated Student Management System (ISMS) \\nUsing LEO satellite connectivity + modem for internet access \\n(instead of expensive fiber / terrestrial lines) \\n1. Project Concept \\nYou’re solving the problem of fragmented records (admission, fees, hostel, exams) in \\ncolleges by creating a low-cost ERP solution built on cloud office tools + satellite internet \\nfor connectivity. \\nCore Features \\n\\uf0b7 Admissions → Online forms feed data into a central database. \\n\\uf0b7 Fees → Auto-generated receipts + linked to student records. \\n\\uf0b7 Hostel/Library → Real-time occupancy tracking, record updates. \\n\\uf0b7 Exams → Marks entry, attempts, result generation. \\n\\uf0b7 Dashboards → Key performance indicators for administrators. \\n\\uf0b7 Security → Role-based access, backups, and audit trails. \\n2. Infrastructure (with LEO Satellites) \\n**Since some colleges (especially rural or remote) lack reliable internet, your ERP will run \\nvia satellite modem + LEO satellites. \\nRequirements \\n1. Receiver Dish + Modem'),\n",
       " Document(metadata={'producer': 'www.ilovepdf.com', 'creator': 'Microsoft® Word 2016', 'creationdate': '2025-09-11T13:57:05+00:00', 'author': 'Ans Khan', 'moddate': '2025-09-11T13:57:05+00:00', 'source': '..\\\\data\\\\ERP.pdf', 'total_pages': 2, 'page': 0, 'page_label': '1', 'source_file': 'ERP.pdf', 'file_type': 'pdf'}, page_content='**Since some colleges (especially rural or remote) lack reliable internet, your ERP will run \\nvia satellite modem + LEO satellites. \\nRequirements \\n1. Receiver Dish + Modem \\no Provided by satellite ISP (e.g., Starlink Kit). \\no Connects to router → Wi-Fi/LAN → ERP system. \\n2. Cloud Office Suite \\no Google Workspace (Sheets, Forms, Apps Script, Data Studio). \\no Microsoft 365 (Excel Online, Power Automate, Power BI). \\no Open-source alternatives (Nextcloud + OnlyOffice). \\n3. Backend Database (if needed) \\no Google Sheets (lightweight, free). \\no Airtable / Supabase  \\no MySQL/PostgreSQL on a cloud VM (if ERP grows).'),\n",
       " Document(metadata={'producer': 'www.ilovepdf.com', 'creator': 'Microsoft® Word 2016', 'creationdate': '2025-09-11T13:57:05+00:00', 'author': 'Ans Khan', 'moddate': '2025-09-11T13:57:05+00:00', 'source': '..\\\\data\\\\ERP.pdf', 'total_pages': 2, 'page': 1, 'page_label': '2', 'source_file': 'ERP.pdf', 'file_type': 'pdf'}, page_content='3. Workflow Integration \\n1. Admission Intake → Google Forms → central student database (Google \\nSheets/Airtable). \\n2. Fee Collection → Payment integration (UPI/PayPal/Razorpay) → Auto receipt → \\nUpdates central DB. \\n3. Hostel Allocation → Online form + auto seat availability update in DB. \\n4. Library/Exams → Staff enter marks, book loans, etc. → Updates same DB. \\n5. Dashboards → Google Data Studio / Power BI → Real-time analytics. \\n6. Connectivity → All data syncs through LEO satellite internet → Works in remote \\ncolleges. \\n4. Challenges & Solutions \\nChallenge Why it matters Possible Solution \\nLatency & \\nBandwidth \\nEven LEO has 30–50 ms latency; bulk \\ndata transfer could slow. \\nUse lightweight apps (Sheets, Forms, \\ndashboards) instead of heavy ERP software. \\nPower \\nBackup Satellite modem + router need power. Use UPS/solar backup for rural colleges. \\nData \\nSecurity Student & financial data are sensitive. Role-based access + encrypted cloud \\nstorage. \\nTraining'),\n",
       " Document(metadata={'producer': 'www.ilovepdf.com', 'creator': 'Microsoft® Word 2016', 'creationdate': '2025-09-11T13:57:05+00:00', 'author': 'Ans Khan', 'moddate': '2025-09-11T13:57:05+00:00', 'source': '..\\\\data\\\\ERP.pdf', 'total_pages': 2, 'page': 1, 'page_label': '2', 'source_file': 'ERP.pdf', 'file_type': 'pdf'}, page_content='Backup Satellite modem + router need power. Use UPS/solar backup for rural colleges. \\nData \\nSecurity Student & financial data are sensitive. Role-based access + encrypted cloud \\nstorage. \\nTraining \\nStaff Many staff are only used to ledgers. Keep UI simple, provide short training. \\nCost Proprietary ERP is expensive. Use free/low-cost cloud office suites + \\nexisting satellite kits. \\n4. Expected Outcome  \\nA prototype ERP system using Google Workspace / Microsoft 365. \\n\\uf0b7 Real-time dashboards showing admissions, fees, hostel, exams. \\n\\uf0b7 Demonstration that satellite internet makes it accessible anywhere, especially for \\nrural/public colleges. \\n\\uf0b7 Cost-effective → No servers, no expensive ERP license, just modem + dish + cloud \\napps.')]"
      ]
     },
     "execution_count": 5,
     "metadata": {},
     "output_type": "execute_result"
    }
   ],
   "source": [
    "chunks=split_documents(all_pdf_documents)\n",
    "chunks"
   ]
  },
  {
   "cell_type": "code",
   "execution_count": 6,
   "id": "bfbf64bb",
   "metadata": {},
   "outputs": [
    {
     "name": "stdout",
     "output_type": "stream",
     "text": [
      "Loading embedding model: all-MiniLM-L6-v2\n",
      "Model loaded successfully. Embedding dimension: 384\n"
     ]
    },
    {
     "data": {
      "text/plain": [
       "<__main__.EmbeddingManager at 0x163cd8db380>"
      ]
     },
     "execution_count": 6,
     "metadata": {},
     "output_type": "execute_result"
    }
   ],
   "source": [
    "class EmbeddingManager:\n",
    "    \"\"\"Handles document embedding generation using SentenceTransformer\"\"\"\n",
    "    \n",
    "    def __init__(self, model_name: str = \"all-MiniLM-L6-v2\"):\n",
    "        \"\"\"\n",
    "        Initialize the embedding manager\n",
    "        \n",
    "        Args:\n",
    "            model_name: HuggingFace model name for sentence embeddings\n",
    "        \"\"\"\n",
    "        self.model_name = model_name\n",
    "        self.model = None\n",
    "        self._load_model()\n",
    "    def _load_model(self):\n",
    "        \"\"\"Load the SentenceTransformer model\"\"\"\n",
    "        try:\n",
    "            print(f\"Loading embedding model: {self.model_name}\")\n",
    "            self.model = SentenceTransformer(self.model_name)\n",
    "            print(f\"Model loaded successfully. Embedding dimension: {self.model.get_sentence_embedding_dimension()}\")\n",
    "        except Exception as e:\n",
    "            print(f\"Error loading model {self.model_name}: {e}\")\n",
    "            raise   \n",
    "    def generate_embeddings(self, texts: List[str]) -> np.ndarray:\n",
    "        \"\"\"\n",
    "        Generate embeddings for a list of texts\n",
    "        \n",
    "        Args:\n",
    "            texts: List of text strings to embed\n",
    "            \n",
    "        Returns:\n",
    "            numpy array of embeddings with shape (len(texts), embedding_dim)\n",
    "        \"\"\"\n",
    "        if not self.model:\n",
    "            raise ValueError(\"Model not loaded\")\n",
    "        \n",
    "        print(f\"Generating embeddings for {len(texts)} texts...\")\n",
    "        embeddings = self.model.encode(texts, show_progress_bar=True)\n",
    "        print(f\"Generated embeddings with shape: {embeddings.shape}\")\n",
    "        return embeddings\n",
    "    \n",
    "## Initialize Embedding Manager\n",
    "embedding_manager = EmbeddingManager()\n",
    "embedding_manager"
   ]
  },
  {
   "cell_type": "markdown",
   "id": "4a9da4aa",
   "metadata": {},
   "source": [
    "### Vector Store"
   ]
  },
  {
   "cell_type": "code",
   "execution_count": 7,
   "id": "9d332b3d",
   "metadata": {},
   "outputs": [
    {
     "name": "stdout",
     "output_type": "stream",
     "text": [
      "Vector store initialized. Collection: pdf_documents\n",
      "Existing documents in collection: 8\n"
     ]
    },
    {
     "data": {
      "text/plain": [
       "<__main__.VectorStore at 0x163cda4c590>"
      ]
     },
     "execution_count": 7,
     "metadata": {},
     "output_type": "execute_result"
    }
   ],
   "source": [
    "class VectorStore:\n",
    "    \"\"\"Manages document embeddings in a ChromaDB vector store\"\"\"\n",
    "    \n",
    "    def __init__(self, collection_name: str = \"pdf_documents\", persist_directory: str = \"../data/vector_store\"):\n",
    "        \"\"\"\n",
    "        Initialize the vector store\n",
    "        \n",
    "        Args:\n",
    "            collection_name: Name of the ChromaDB collection\n",
    "            persist_directory: Directory to persist the vector store\n",
    "        \"\"\"\n",
    "        self.collection_name = collection_name\n",
    "        self.persist_directory = persist_directory\n",
    "        self.client = None\n",
    "        self.collection = None\n",
    "        self._initialize_store()\n",
    "\n",
    "    def _initialize_store(self):\n",
    "        \"\"\"Initialize ChromaDB client and collection\"\"\"\n",
    "        try:\n",
    "            # Create persistent ChromaDB client\n",
    "            os.makedirs(self.persist_directory, exist_ok=True)\n",
    "            self.client = chromadb.PersistentClient(path=self.persist_directory)\n",
    "            \n",
    "            # Get or create collection\n",
    "            self.collection = self.client.get_or_create_collection(\n",
    "                name=self.collection_name,\n",
    "                metadata={\"description\": \"PDF document embeddings for RAG\"}\n",
    "            )\n",
    "            print(f\"Vector store initialized. Collection: {self.collection_name}\")\n",
    "            print(f\"Existing documents in collection: {self.collection.count()}\")\n",
    "            \n",
    "        except Exception as e:\n",
    "            print(f\"Error initializing vector store: {e}\")\n",
    "            raise\n",
    "\n",
    "    def add_documents(self, documents: List[Any], embeddings: np.ndarray):\n",
    "        \"\"\"\n",
    "        Add documents and their embeddings to the vector store\n",
    "        \n",
    "        Args:\n",
    "            documents: List of LangChain documents\n",
    "            embeddings: Corresponding embeddings for the documents\n",
    "        \"\"\"\n",
    "        if len(documents) != len(embeddings):\n",
    "            raise ValueError(\"Number of documents must match number of embeddings\")\n",
    "        \n",
    "        print(f\"Adding {len(documents)} documents to vector store...\")\n",
    "        \n",
    "        # Prepare data for ChromaDB\n",
    "        ids = []\n",
    "        metadatas = []\n",
    "        documents_text = []\n",
    "        embeddings_list = []\n",
    "        \n",
    "        for i, (doc, embedding) in enumerate(zip(documents, embeddings)):\n",
    "            # Generate unique ID\n",
    "            doc_id = f\"doc_{uuid.uuid4().hex[:8]}_{i}\"\n",
    "            ids.append(doc_id)\n",
    "            \n",
    "            # Prepare metadata\n",
    "            metadata = dict(doc.metadata)\n",
    "            metadata['doc_index'] = i\n",
    "            metadata['content_length'] = len(doc.page_content)\n",
    "            metadatas.append(metadata)\n",
    "            \n",
    "            # Document content\n",
    "            documents_text.append(doc.page_content)\n",
    "            \n",
    "            # Embedding\n",
    "            embeddings_list.append(embedding.tolist())\n",
    "        \n",
    "        # Add to collection\n",
    "        try:\n",
    "            self.collection.add(\n",
    "                ids=ids,\n",
    "                embeddings=embeddings_list,\n",
    "                metadatas=metadatas,\n",
    "                documents=documents_text\n",
    "            )\n",
    "            print(f\"Successfully added {len(documents)} documents to vector store\")\n",
    "            print(f\"Total documents in collection: {self.collection.count()}\")\n",
    "            \n",
    "        except Exception as e:\n",
    "            print(f\"Error adding documents to vector store: {e}\")\n",
    "            raise\n",
    "\n",
    "vectorstore=VectorStore()\n",
    "vectorstore\n",
    "    "
   ]
  },
  {
   "cell_type": "code",
   "execution_count": 8,
   "id": "41160d38",
   "metadata": {},
   "outputs": [
    {
     "data": {
      "text/plain": [
       "[Document(metadata={'producer': 'www.ilovepdf.com', 'creator': 'Microsoft® Word 2016', 'creationdate': '2025-09-11T13:57:05+00:00', 'author': 'Ans Khan', 'moddate': '2025-09-11T13:57:05+00:00', 'source': '..\\\\data\\\\ERP.pdf', 'total_pages': 2, 'page': 0, 'page_label': '1', 'source_file': 'ERP.pdf', 'file_type': 'pdf'}, page_content='ERP-based Integrated Student Management System (ISMS) \\nUsing LEO satellite connectivity + modem for internet access \\n(instead of expensive fiber / terrestrial lines) \\n1. Project Concept \\nYou’re solving the problem of fragmented records (admission, fees, hostel, exams) in \\ncolleges by creating a low-cost ERP solution built on cloud office tools + satellite internet \\nfor connectivity. \\nCore Features \\n\\uf0b7 Admissions → Online forms feed data into a central database. \\n\\uf0b7 Fees → Auto-generated receipts + linked to student records. \\n\\uf0b7 Hostel/Library → Real-time occupancy tracking, record updates. \\n\\uf0b7 Exams → Marks entry, attempts, result generation. \\n\\uf0b7 Dashboards → Key performance indicators for administrators. \\n\\uf0b7 Security → Role-based access, backups, and audit trails. \\n2. Infrastructure (with LEO Satellites) \\n**Since some colleges (especially rural or remote) lack reliable internet, your ERP will run \\nvia satellite modem + LEO satellites. \\nRequirements \\n1. Receiver Dish + Modem'),\n",
       " Document(metadata={'producer': 'www.ilovepdf.com', 'creator': 'Microsoft® Word 2016', 'creationdate': '2025-09-11T13:57:05+00:00', 'author': 'Ans Khan', 'moddate': '2025-09-11T13:57:05+00:00', 'source': '..\\\\data\\\\ERP.pdf', 'total_pages': 2, 'page': 0, 'page_label': '1', 'source_file': 'ERP.pdf', 'file_type': 'pdf'}, page_content='**Since some colleges (especially rural or remote) lack reliable internet, your ERP will run \\nvia satellite modem + LEO satellites. \\nRequirements \\n1. Receiver Dish + Modem \\no Provided by satellite ISP (e.g., Starlink Kit). \\no Connects to router → Wi-Fi/LAN → ERP system. \\n2. Cloud Office Suite \\no Google Workspace (Sheets, Forms, Apps Script, Data Studio). \\no Microsoft 365 (Excel Online, Power Automate, Power BI). \\no Open-source alternatives (Nextcloud + OnlyOffice). \\n3. Backend Database (if needed) \\no Google Sheets (lightweight, free). \\no Airtable / Supabase  \\no MySQL/PostgreSQL on a cloud VM (if ERP grows).'),\n",
       " Document(metadata={'producer': 'www.ilovepdf.com', 'creator': 'Microsoft® Word 2016', 'creationdate': '2025-09-11T13:57:05+00:00', 'author': 'Ans Khan', 'moddate': '2025-09-11T13:57:05+00:00', 'source': '..\\\\data\\\\ERP.pdf', 'total_pages': 2, 'page': 1, 'page_label': '2', 'source_file': 'ERP.pdf', 'file_type': 'pdf'}, page_content='3. Workflow Integration \\n1. Admission Intake → Google Forms → central student database (Google \\nSheets/Airtable). \\n2. Fee Collection → Payment integration (UPI/PayPal/Razorpay) → Auto receipt → \\nUpdates central DB. \\n3. Hostel Allocation → Online form + auto seat availability update in DB. \\n4. Library/Exams → Staff enter marks, book loans, etc. → Updates same DB. \\n5. Dashboards → Google Data Studio / Power BI → Real-time analytics. \\n6. Connectivity → All data syncs through LEO satellite internet → Works in remote \\ncolleges. \\n4. Challenges & Solutions \\nChallenge Why it matters Possible Solution \\nLatency & \\nBandwidth \\nEven LEO has 30–50 ms latency; bulk \\ndata transfer could slow. \\nUse lightweight apps (Sheets, Forms, \\ndashboards) instead of heavy ERP software. \\nPower \\nBackup Satellite modem + router need power. Use UPS/solar backup for rural colleges. \\nData \\nSecurity Student & financial data are sensitive. Role-based access + encrypted cloud \\nstorage. \\nTraining'),\n",
       " Document(metadata={'producer': 'www.ilovepdf.com', 'creator': 'Microsoft® Word 2016', 'creationdate': '2025-09-11T13:57:05+00:00', 'author': 'Ans Khan', 'moddate': '2025-09-11T13:57:05+00:00', 'source': '..\\\\data\\\\ERP.pdf', 'total_pages': 2, 'page': 1, 'page_label': '2', 'source_file': 'ERP.pdf', 'file_type': 'pdf'}, page_content='Backup Satellite modem + router need power. Use UPS/solar backup for rural colleges. \\nData \\nSecurity Student & financial data are sensitive. Role-based access + encrypted cloud \\nstorage. \\nTraining \\nStaff Many staff are only used to ledgers. Keep UI simple, provide short training. \\nCost Proprietary ERP is expensive. Use free/low-cost cloud office suites + \\nexisting satellite kits. \\n4. Expected Outcome  \\nA prototype ERP system using Google Workspace / Microsoft 365. \\n\\uf0b7 Real-time dashboards showing admissions, fees, hostel, exams. \\n\\uf0b7 Demonstration that satellite internet makes it accessible anywhere, especially for \\nrural/public colleges. \\n\\uf0b7 Cost-effective → No servers, no expensive ERP license, just modem + dish + cloud \\napps.')]"
      ]
     },
     "execution_count": 8,
     "metadata": {},
     "output_type": "execute_result"
    }
   ],
   "source": [
    "chunks"
   ]
  },
  {
   "cell_type": "code",
   "execution_count": 9,
   "id": "912bace0",
   "metadata": {},
   "outputs": [
    {
     "name": "stdout",
     "output_type": "stream",
     "text": [
      "Generating embeddings for 4 texts...\n"
     ]
    },
    {
     "name": "stderr",
     "output_type": "stream",
     "text": [
      "Batches: 100%|██████████| 1/1 [00:00<00:00,  2.31it/s]"
     ]
    },
    {
     "name": "stdout",
     "output_type": "stream",
     "text": [
      "Generated embeddings with shape: (4, 384)\n",
      "Adding 4 documents to vector store...\n",
      "Successfully added 4 documents to vector store\n",
      "Total documents in collection: 12\n"
     ]
    },
    {
     "name": "stderr",
     "output_type": "stream",
     "text": [
      "\n"
     ]
    }
   ],
   "source": [
    "### Convert the text to embeddings\n",
    "texts=[doc.page_content for doc in chunks]\n",
    "\n",
    "## Generate the Embeddings\n",
    "\n",
    "embeddings=embedding_manager.generate_embeddings(texts)\n",
    "\n",
    "##store int he vector dtaabase\n",
    "vectorstore.add_documents(chunks,embeddings)"
   ]
  },
  {
   "cell_type": "markdown",
   "id": "875758a1",
   "metadata": {},
   "source": [
    "### Retriever Pipeline From VectorStore"
   ]
  },
  {
   "cell_type": "code",
   "execution_count": 10,
   "id": "11bc4803",
   "metadata": {},
   "outputs": [],
   "source": [
    "class RAGRetriever:\n",
    "    \"\"\"Handles query-based retrieval from the vector store\"\"\"\n",
    "    \n",
    "    def __init__(self, vector_store: VectorStore, embedding_manager: EmbeddingManager):\n",
    "        \"\"\"\n",
    "        Initialize the retriever\n",
    "        \n",
    "        Args:\n",
    "            vector_store: Vector store containing document embeddings\n",
    "            embedding_manager: Manager for generating query embeddings\n",
    "        \"\"\"\n",
    "        self.vector_store = vector_store\n",
    "        self.embedding_manager = embedding_manager\n",
    "\n",
    "\n",
    "\n",
    "    def retrieve(self, query: str, top_k: int = 5, score_threshold: float = 0.0) -> List[Dict[str, Any]]:\n",
    "        \"\"\"\n",
    "        Retrieve relevant documents for a query\n",
    "        \n",
    "        Args:\n",
    "            query: The search query\n",
    "            top_k: Number of top results to return\n",
    "            score_threshold: Minimum similarity score threshold\n",
    "            \n",
    "        Returns:\n",
    "            List of dictionaries containing retrieved documents and metadata\n",
    "        \"\"\"\n",
    "        print(f\"Retrieving documents for query: '{query}'\")\n",
    "        print(f\"Top K: {top_k}, Score threshold: {score_threshold}\")\n",
    "        \n",
    "        # Generate query embedding\n",
    "        query_embedding = self.embedding_manager.generate_embeddings([query])[0]\n",
    "        \n",
    "        # Search in vector store\n",
    "        try:\n",
    "            results = self.vector_store.collection.query(\n",
    "                query_embeddings=[query_embedding.tolist()],\n",
    "                n_results=top_k\n",
    "            )\n",
    "            \n",
    "            # Process results\n",
    "            retrieved_docs = []\n",
    "            \n",
    "            if results['documents'] and results['documents'][0]:\n",
    "                documents = results['documents'][0]\n",
    "                metadatas = results['metadatas'][0]\n",
    "                distances = results['distances'][0]\n",
    "                ids = results['ids'][0]\n",
    "                \n",
    "                for i, (doc_id, document, metadata, distance) in enumerate(zip(ids, documents, metadatas, distances)):\n",
    "                    # Convert distance to similarity score (ChromaDB uses cosine distance)\n",
    "                    similarity_score = 1 - distance\n",
    "                    \n",
    "                    if similarity_score >= score_threshold:\n",
    "                        retrieved_docs.append({\n",
    "                            'id': doc_id,\n",
    "                            'content': document,\n",
    "                            'metadata': metadata,\n",
    "                            'similarity_score': similarity_score,\n",
    "                            'distance': distance,\n",
    "                            'rank': i + 1\n",
    "                        })\n",
    "                \n",
    "                print(f\"Retrieved {len(retrieved_docs)} documents (after filtering)\")\n",
    "            else:\n",
    "                print(\"No documents found\")\n",
    "            \n",
    "            return retrieved_docs\n",
    "            \n",
    "        except Exception as e:\n",
    "            print(f\"Error during retrieval: {e}\")\n",
    "            return []\n",
    "\n",
    "\n",
    "rag_retriever = RAGRetriever(vectorstore, embedding_manager)\n"
   ]
  },
  {
   "cell_type": "code",
   "execution_count": 11,
   "id": "6e565fe0",
   "metadata": {},
   "outputs": [
    {
     "data": {
      "text/plain": [
       "<__main__.RAGRetriever at 0x163cda4ea50>"
      ]
     },
     "execution_count": 11,
     "metadata": {},
     "output_type": "execute_result"
    }
   ],
   "source": [
    "rag_retriever"
   ]
  },
  {
   "cell_type": "code",
   "execution_count": 12,
   "id": "86cd7d7a",
   "metadata": {},
   "outputs": [
    {
     "name": "stdout",
     "output_type": "stream",
     "text": [
      "Retrieving documents for query: 'what is ERP is all you need'\n",
      "Top K: 5, Score threshold: 0.0\n",
      "Generating embeddings for 1 texts...\n"
     ]
    },
    {
     "name": "stderr",
     "output_type": "stream",
     "text": [
      "Batches: 100%|██████████| 1/1 [00:00<00:00, 36.93it/s]\n"
     ]
    },
    {
     "name": "stdout",
     "output_type": "stream",
     "text": [
      "Generated embeddings with shape: (1, 384)\n",
      "Retrieved 5 documents (after filtering)\n"
     ]
    },
    {
     "data": {
      "text/plain": [
       "[{'id': 'doc_23f16185_1',\n",
       "  'content': '**Since some colleges (especially rural or remote) lack reliable internet, your ERP will run \\nvia satellite modem + LEO satellites. \\nRequirements \\n1. Receiver Dish + Modem \\no Provided by satellite ISP (e.g., Starlink Kit). \\no Connects to router → Wi-Fi/LAN → ERP system. \\n2. Cloud Office Suite \\no Google Workspace (Sheets, Forms, Apps Script, Data Studio). \\no Microsoft 365 (Excel Online, Power Automate, Power BI). \\no Open-source alternatives (Nextcloud + OnlyOffice). \\n3. Backend Database (if needed) \\no Google Sheets (lightweight, free). \\no Airtable / Supabase  \\no MySQL/PostgreSQL on a cloud VM (if ERP grows).',\n",
       "  'metadata': {'page_label': '1',\n",
       "   'creator': 'Microsoft® Word 2016',\n",
       "   'source': '..\\\\data\\\\ERP.pdf',\n",
       "   'author': 'Ans Khan',\n",
       "   'content_length': 614,\n",
       "   'page': 0,\n",
       "   'creationdate': '2025-09-11T13:57:05+00:00',\n",
       "   'source_file': 'ERP.pdf',\n",
       "   'producer': 'www.ilovepdf.com',\n",
       "   'total_pages': 2,\n",
       "   'doc_index': 1,\n",
       "   'file_type': 'pdf',\n",
       "   'moddate': '2025-09-11T13:57:05+00:00'},\n",
       "  'similarity_score': 0.15914583206176758,\n",
       "  'distance': 0.8408541679382324,\n",
       "  'rank': 1},\n",
       " {'id': 'doc_d375959e_1',\n",
       "  'content': '**Since some colleges (especially rural or remote) lack reliable internet, your ERP will run \\nvia satellite modem + LEO satellites. \\nRequirements \\n1. Receiver Dish + Modem \\no Provided by satellite ISP (e.g., Starlink Kit). \\no Connects to router → Wi-Fi/LAN → ERP system. \\n2. Cloud Office Suite \\no Google Workspace (Sheets, Forms, Apps Script, Data Studio). \\no Microsoft 365 (Excel Online, Power Automate, Power BI). \\no Open-source alternatives (Nextcloud + OnlyOffice). \\n3. Backend Database (if needed) \\no Google Sheets (lightweight, free). \\no Airtable / Supabase  \\no MySQL/PostgreSQL on a cloud VM (if ERP grows).',\n",
       "  'metadata': {'source': '..\\\\data\\\\ERP.pdf',\n",
       "   'content_length': 614,\n",
       "   'file_type': 'pdf',\n",
       "   'creator': 'Microsoft® Word 2016',\n",
       "   'page_label': '1',\n",
       "   'producer': 'www.ilovepdf.com',\n",
       "   'source_file': 'ERP.pdf',\n",
       "   'moddate': '2025-09-11T13:57:05+00:00',\n",
       "   'total_pages': 2,\n",
       "   'author': 'Ans Khan',\n",
       "   'page': 0,\n",
       "   'doc_index': 1,\n",
       "   'creationdate': '2025-09-11T13:57:05+00:00'},\n",
       "  'similarity_score': 0.15914583206176758,\n",
       "  'distance': 0.8408541679382324,\n",
       "  'rank': 2},\n",
       " {'id': 'doc_32062c8f_1',\n",
       "  'content': '**Since some colleges (especially rural or remote) lack reliable internet, your ERP will run \\nvia satellite modem + LEO satellites. \\nRequirements \\n1. Receiver Dish + Modem \\no Provided by satellite ISP (e.g., Starlink Kit). \\no Connects to router → Wi-Fi/LAN → ERP system. \\n2. Cloud Office Suite \\no Google Workspace (Sheets, Forms, Apps Script, Data Studio). \\no Microsoft 365 (Excel Online, Power Automate, Power BI). \\no Open-source alternatives (Nextcloud + OnlyOffice). \\n3. Backend Database (if needed) \\no Google Sheets (lightweight, free). \\no Airtable / Supabase  \\no MySQL/PostgreSQL on a cloud VM (if ERP grows).',\n",
       "  'metadata': {'source_file': 'ERP.pdf',\n",
       "   'author': 'Ans Khan',\n",
       "   'total_pages': 2,\n",
       "   'creationdate': '2025-09-11T13:57:05+00:00',\n",
       "   'content_length': 614,\n",
       "   'file_type': 'pdf',\n",
       "   'page_label': '1',\n",
       "   'source': '..\\\\data\\\\ERP.pdf',\n",
       "   'doc_index': 1,\n",
       "   'page': 0,\n",
       "   'creator': 'Microsoft® Word 2016',\n",
       "   'moddate': '2025-09-11T13:57:05+00:00',\n",
       "   'producer': 'www.ilovepdf.com'},\n",
       "  'similarity_score': 0.15914583206176758,\n",
       "  'distance': 0.8408541679382324,\n",
       "  'rank': 3},\n",
       " {'id': 'doc_90e1b82e_3',\n",
       "  'content': 'Backup Satellite modem + router need power. Use UPS/solar backup for rural colleges. \\nData \\nSecurity Student & financial data are sensitive. Role-based access + encrypted cloud \\nstorage. \\nTraining \\nStaff Many staff are only used to ledgers. Keep UI simple, provide short training. \\nCost Proprietary ERP is expensive. Use free/low-cost cloud office suites + \\nexisting satellite kits. \\n4. Expected Outcome  \\nA prototype ERP system using Google Workspace / Microsoft 365. \\n\\uf0b7 Real-time dashboards showing admissions, fees, hostel, exams. \\n\\uf0b7 Demonstration that satellite internet makes it accessible anywhere, especially for \\nrural/public colleges. \\n\\uf0b7 Cost-effective → No servers, no expensive ERP license, just modem + dish + cloud \\napps.',\n",
       "  'metadata': {'creator': 'Microsoft® Word 2016',\n",
       "   'page_label': '2',\n",
       "   'doc_index': 3,\n",
       "   'source_file': 'ERP.pdf',\n",
       "   'producer': 'www.ilovepdf.com',\n",
       "   'total_pages': 2,\n",
       "   'source': '..\\\\data\\\\ERP.pdf',\n",
       "   'file_type': 'pdf',\n",
       "   'author': 'Ans Khan',\n",
       "   'content_length': 734,\n",
       "   'moddate': '2025-09-11T13:57:05+00:00',\n",
       "   'page': 1,\n",
       "   'creationdate': '2025-09-11T13:57:05+00:00'},\n",
       "  'similarity_score': 0.05390650033950806,\n",
       "  'distance': 0.9460934996604919,\n",
       "  'rank': 4},\n",
       " {'id': 'doc_29d1de44_3',\n",
       "  'content': 'Backup Satellite modem + router need power. Use UPS/solar backup for rural colleges. \\nData \\nSecurity Student & financial data are sensitive. Role-based access + encrypted cloud \\nstorage. \\nTraining \\nStaff Many staff are only used to ledgers. Keep UI simple, provide short training. \\nCost Proprietary ERP is expensive. Use free/low-cost cloud office suites + \\nexisting satellite kits. \\n4. Expected Outcome  \\nA prototype ERP system using Google Workspace / Microsoft 365. \\n\\uf0b7 Real-time dashboards showing admissions, fees, hostel, exams. \\n\\uf0b7 Demonstration that satellite internet makes it accessible anywhere, especially for \\nrural/public colleges. \\n\\uf0b7 Cost-effective → No servers, no expensive ERP license, just modem + dish + cloud \\napps.',\n",
       "  'metadata': {'page': 1,\n",
       "   'moddate': '2025-09-11T13:57:05+00:00',\n",
       "   'file_type': 'pdf',\n",
       "   'creationdate': '2025-09-11T13:57:05+00:00',\n",
       "   'source_file': 'ERP.pdf',\n",
       "   'source': '..\\\\data\\\\ERP.pdf',\n",
       "   'doc_index': 3,\n",
       "   'content_length': 734,\n",
       "   'producer': 'www.ilovepdf.com',\n",
       "   'creator': 'Microsoft® Word 2016',\n",
       "   'author': 'Ans Khan',\n",
       "   'total_pages': 2,\n",
       "   'page_label': '2'},\n",
       "  'similarity_score': 0.05390650033950806,\n",
       "  'distance': 0.9460934996604919,\n",
       "  'rank': 5}]"
      ]
     },
     "execution_count": 12,
     "metadata": {},
     "output_type": "execute_result"
    }
   ],
   "source": [
    "rag_retriever.retrieve(\"what is ERP is all you need\")"
   ]
  },
  {
   "cell_type": "markdown",
   "id": "f977b5b9",
   "metadata": {},
   "source": [
    "### RAG Pipeline- VectorDB To LLM Output Generation"
   ]
  },
  {
   "cell_type": "code",
   "execution_count": null,
   "id": "5432a1e1",
   "metadata": {},
   "outputs": [
    {
     "name": "stdout",
     "output_type": "stream",
     "text": [
      "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\n"
     ]
    }
   ],
   "source": [
    "import os\n",
    "from dotenv import load_dotenv\n",
    "load_dotenv()\n"
   ]
  },
  {
   "cell_type": "code",
   "execution_count": 20,
   "id": "24d7a0f8",
   "metadata": {},
   "outputs": [],
   "source": [
    "from langchain_groq import ChatGroq\n",
    "from langchain.prompts import PromptTemplate\n",
    "from langchain.schema import HumanMessage, SystemMessage"
   ]
  },
  {
   "cell_type": "code",
   "execution_count": 21,
   "id": "a6f7fb35",
   "metadata": {},
   "outputs": [],
   "source": [
    "class GroqLLM:\n",
    "    def __init__(self, model_name: str = \"gemma2-9b-it\", api_key: str =None):\n",
    "        \"\"\"\n",
    "        Initialize Groq LLM\n",
    "        \n",
    "        Args:\n",
    "            model_name: Groq model name (qwen2-72b-instruct, llama3-70b-8192, etc.)\n",
    "            api_key: Groq API key (or set GROQ_API_KEY environment variable)\n",
    "        \"\"\"\n",
    "        self.model_name = model_name\n",
    "        self.api_key = api_key or os.environ.get(\"GROQ_API_KEY\")\n",
    "        \n",
    "        if not self.api_key:\n",
    "            raise ValueError(\"Groq API key is required. Set GROQ_API_KEY environment variable or pass api_key parameter.\")\n",
    "        \n",
    "        self.llm = ChatGroq(\n",
    "            groq_api_key=self.api_key,\n",
    "            model_name=self.model_name,\n",
    "            temperature=0.1,\n",
    "            max_tokens=1024\n",
    "        )\n",
    "        \n",
    "        print(f\"Initialized Groq LLM with model: {self.model_name}\")\n",
    "\n",
    "    def generate_response(self, query: str, context: str, max_length: int = 500) -> str:\n",
    "        \"\"\"\n",
    "        Generate response using retrieved context\n",
    "        \n",
    "        Args:\n",
    "            query: User question\n",
    "            context: Retrieved document context\n",
    "            max_length: Maximum response length\n",
    "            \n",
    "        Returns:\n",
    "            Generated response string\n",
    "        \"\"\"\n",
    "        \n",
    "        # Create prompt template\n",
    "        prompt_template = PromptTemplate(\n",
    "            input_variables=[\"context\", \"question\"],\n",
    "            template=\"\"\"You are a helpful AI assistant. Use the following context to answer the question accurately and concisely.\n",
    "\n",
    "Context:\n",
    "{context}\n",
    "\n",
    "Question: {question}\n",
    "\n",
    "Answer: Provide a clear and informative answer based on the context above. If the context doesn't contain enough information to answer the question, say so.\"\"\"\n",
    "        )\n",
    "        \n",
    "        # Format the prompt\n",
    "        formatted_prompt = prompt_template.format(context=context, question=query)\n",
    "        \n",
    "        try:\n",
    "            # Generate response\n",
    "            messages = [HumanMessage(content=formatted_prompt)]\n",
    "            response = self.llm.invoke(messages)\n",
    "            return response.content\n",
    "            \n",
    "        except Exception as e:\n",
    "            return f\"Error generating response: {str(e)}\"\n",
    "        \n",
    "    def generate_response_simple(self, query: str, context: str) -> str:\n",
    "        \"\"\"\n",
    "        Simple response generation without complex prompting\n",
    "        \n",
    "        Args:\n",
    "            query: User question\n",
    "            context: Retrieved context\n",
    "            \n",
    "        Returns:\n",
    "            Generated response\n",
    "        \"\"\"\n",
    "        simple_prompt = f\"\"\"Based on this context: {context}\n",
    "\n",
    "Question: {query}\n",
    "\n",
    "Answer:\"\"\"\n",
    "        \n",
    "        try:\n",
    "            messages = [HumanMessage(content=simple_prompt)]\n",
    "            response = self.llm.invoke(messages)\n",
    "            return response.content\n",
    "        except Exception as e:\n",
    "            return f\"Error: {str(e)}\"\n",
    "    "
   ]
  },
  {
   "cell_type": "code",
   "execution_count": 22,
   "id": "666ed799",
   "metadata": {},
   "outputs": [
    {
     "name": "stdout",
     "output_type": "stream",
     "text": [
      "Initialized Groq LLM with model: gemma2-9b-it\n",
      "Groq LLM initialized successfully!\n"
     ]
    }
   ],
   "source": [
    "# Initialize Groq LLM (you'll need to set GROQ_API_KEY environment variable)\n",
    "try:\n",
    "    groq_llm = GroqLLM(api_key=os.getenv(\"GROQ_API_KEY\"))\n",
    "    print(\"Groq LLM initialized successfully!\")\n",
    "except ValueError as e:\n",
    "    print(f\"Warning: {e}\")\n",
    "    print(\"Please set your GROQ_API_KEY environment variable to use the LLM.\")\n",
    "    groq_llm = None"
   ]
  },
  {
   "cell_type": "code",
   "execution_count": 23,
   "id": "d2ea4756",
   "metadata": {},
   "outputs": [
    {
     "name": "stdout",
     "output_type": "stream",
     "text": [
      "Retrieving documents for query: 'Unified Multi-task Learning Framework'\n",
      "Top K: 5, Score threshold: 0.0\n",
      "Generating embeddings for 1 texts...\n"
     ]
    },
    {
     "name": "stderr",
     "output_type": "stream",
     "text": [
      "Batches: 100%|██████████| 1/1 [00:00<00:00, 19.72it/s]"
     ]
    },
    {
     "name": "stdout",
     "output_type": "stream",
     "text": [
      "Generated embeddings with shape: (1, 384)\n",
      "Retrieved 0 documents (after filtering)\n"
     ]
    },
    {
     "name": "stderr",
     "output_type": "stream",
     "text": [
      "\n"
     ]
    },
    {
     "data": {
      "text/plain": [
       "[]"
      ]
     },
     "execution_count": 23,
     "metadata": {},
     "output_type": "execute_result"
    }
   ],
   "source": [
    "### get the context from the retriever and pass it to the LLM\n",
    "\n",
    "rag_retriever.retrieve(\"Unified Multi-task Learning Framework\")"
   ]
  },
  {
   "cell_type": "markdown",
   "id": "f5c1d82a",
   "metadata": {},
   "source": [
    "### Integration Vectordb Context pipeline With LLM output"
   ]
  },
  {
   "cell_type": "code",
   "execution_count": 33,
   "id": "a5d397af",
   "metadata": {},
   "outputs": [],
   "source": [
    "### Simple RAG pipeline with Groq LLM\n",
    "from langchain_groq import ChatGroq\n",
    "import os\n",
    "from dotenv import load_dotenv\n",
    "load_dotenv()\n",
    "\n",
    "### Initialize the Groq LLM (set your GROQ_API_KEY in environment)\n",
    "groq_api_key = os.getenv(\"GROQ_API_KEY\")\n",
    "\n",
    "llm=ChatGroq(groq_api_key=groq_api_key,model_name=\"gemma2-9b-it\",temperature=0.1,max_tokens=1024)\n",
    "\n",
    "## 2. Simple RAG function: retrieve context + generate response\n",
    "def rag_simple(query,retriever,llm,top_k=3):\n",
    "    ## retriever the context\n",
    "    results=retriever.retrieve(query,top_k=top_k)\n",
    "    context=\"\\n\\n\".join([doc['content'] for doc in results]) if results else \"\"\n",
    "    if not context:\n",
    "        return \"No relevant context found to answer the question.\"\n",
    "    \n",
    "    ## generate the answwer using GROQ LLM\n",
    "    prompt=f\"\"\"Use the following context to answer the question concisely.\n",
    "        Context:\n",
    "        {context}\n",
    "\n",
    "        Question: {query}\n",
    "\n",
    "        Answer:\"\"\"\n",
    "    \n",
    "    response=llm.invoke([prompt.format(context=context,query=query)])\n",
    "    return response.content"
   ]
  },
  {
   "cell_type": "code",
   "execution_count": 38,
   "id": "75ffb9b7",
   "metadata": {},
   "outputs": [
    {
     "name": "stdout",
     "output_type": "stream",
     "text": [
      "Retrieving documents for query: 'who is author?'\n",
      "Top K: 3, Score threshold: 0.0\n",
      "Generating embeddings for 1 texts...\n"
     ]
    },
    {
     "name": "stderr",
     "output_type": "stream",
     "text": [
      "Batches: 100%|██████████| 1/1 [00:00<00:00,  5.38it/s]"
     ]
    },
    {
     "name": "stdout",
     "output_type": "stream",
     "text": [
      "Generated embeddings with shape: (1, 384)\n",
      "Retrieved 0 documents (after filtering)\n",
      "No relevant context found to answer the question.\n"
     ]
    },
    {
     "name": "stderr",
     "output_type": "stream",
     "text": [
      "\n"
     ]
    }
   ],
   "source": [
    "answer=rag_simple(\"who is author?\",rag_retriever,llm)\n",
    "print(answer)"
   ]
  },
  {
   "cell_type": "markdown",
   "id": "3a50a302",
   "metadata": {},
   "source": [
    "### Enhanced RAG Pipeline Features"
   ]
  },
  {
   "cell_type": "code",
   "execution_count": 40,
   "id": "f2e5a70b",
   "metadata": {},
   "outputs": [
    {
     "name": "stdout",
     "output_type": "stream",
     "text": [
      "Retrieving documents for query: 'Workflow Integration'\n",
      "Top K: 3, Score threshold: 0.1\n",
      "Generating embeddings for 1 texts...\n"
     ]
    },
    {
     "name": "stderr",
     "output_type": "stream",
     "text": [
      "Batches: 100%|██████████| 1/1 [00:00<00:00, 42.45it/s]"
     ]
    },
    {
     "name": "stdout",
     "output_type": "stream",
     "text": [
      "Generated embeddings with shape: (1, 384)\n",
      "Retrieved 0 documents (after filtering)\n",
      "Answer: No relevant context found.\n",
      "Sources: []\n",
      "Confidence: 0.0\n",
      "Context Preview: \n"
     ]
    },
    {
     "name": "stderr",
     "output_type": "stream",
     "text": [
      "\n"
     ]
    }
   ],
   "source": [
    "# --- Enhanced RAG Pipeline Features ---\n",
    "def rag_advanced(query, retriever, llm, top_k=5, min_score=0.2, return_context=False):\n",
    "    \"\"\"\n",
    "    RAG pipeline with extra features:\n",
    "    - Returns answer, sources, confidence score, and optionally full context.\n",
    "    \"\"\"\n",
    "    results = retriever.retrieve(query, top_k=top_k, score_threshold=min_score)\n",
    "    if not results:\n",
    "        return {'answer': 'No relevant context found.', 'sources': [], 'confidence': 0.0, 'context': ''}\n",
    "    \n",
    "    # Prepare context and sources\n",
    "    context = \"\\n\\n\".join([doc['content'] for doc in results])\n",
    "    sources = [{\n",
    "        'source': doc['metadata'].get('source_file', doc['metadata'].get('source', 'unknown')),\n",
    "        'page': doc['metadata'].get('page', 'unknown'),\n",
    "        'score': doc['similarity_score'],\n",
    "        'preview': doc['content'][:300] + '...'\n",
    "    } for doc in results]\n",
    "    confidence = max([doc['similarity_score'] for doc in results])\n",
    "    \n",
    "    # Generate answer\n",
    "    prompt = f\"\"\"Use the following context to answer the question concisely.\\nContext:\\n{context}\\n\\nQuestion: {query}\\n\\nAnswer:\"\"\"\n",
    "    response = llm.invoke([prompt.format(context=context, query=query)])\n",
    "    \n",
    "    output = {\n",
    "        'answer': response.content,\n",
    "        'sources': sources,\n",
    "        'confidence': confidence\n",
    "    }\n",
    "    if return_context:\n",
    "        output['context'] = context\n",
    "    return output\n",
    "\n",
    "# Example usage:\n",
    "result = rag_advanced(\"Workflow Integration\", rag_retriever, llm, top_k=3, min_score=0.1, return_context=True)\n",
    "print(\"Answer:\", result['answer'])\n",
    "print(\"Sources:\", result['sources'])\n",
    "print(\"Confidence:\", result['confidence'])\n",
    "print(\"Context Preview:\", result['context'][:300])"
   ]
  },
  {
   "cell_type": "code",
   "execution_count": 41,
   "id": "56006aa2",
   "metadata": {},
   "outputs": [
    {
     "name": "stdout",
     "output_type": "stream",
     "text": [
      "Retrieving documents for query: 'what is attention is all you need'\n",
      "Top K: 3, Score threshold: 0.1\n",
      "Generating embeddings for 1 texts...\n"
     ]
    },
    {
     "name": "stderr",
     "output_type": "stream",
     "text": [
      "Batches: 100%|██████████| 1/1 [00:00<00:00, 51.18it/s]"
     ]
    },
    {
     "name": "stdout",
     "output_type": "stream",
     "text": [
      "Generated embeddings with shape: (1, 384)\n",
      "Retrieved 0 documents (after filtering)\n"
     ]
    },
    {
     "name": "stderr",
     "output_type": "stream",
     "text": [
      "\n"
     ]
    },
    {
     "name": "stdout",
     "output_type": "stream",
     "text": [
      "\n",
      "Final Answer: No relevant context found.\n",
      "Summary: The provided text does not contain any information that can be summarized.  There is no relevant context to draw upon. \n",
      "\n",
      "\n",
      "\n",
      "History: {'question': 'what is attention is all you need', 'answer': 'No relevant context found.', 'sources': [], 'summary': 'The provided text does not contain any information that can be summarized.  There is no relevant context to draw upon. \\n\\n\\n'}\n"
     ]
    }
   ],
   "source": [
    "# --- Advanced RAG Pipeline: Streaming, Citations, History, Summarization ---\n",
    "from typing import List, Dict, Any\n",
    "import time\n",
    "\n",
    "class AdvancedRAGPipeline:\n",
    "    def __init__(self, retriever, llm):\n",
    "        self.retriever = retriever\n",
    "        self.llm = llm\n",
    "        self.history = []  # Store query history\n",
    "\n",
    "    def query(self, question: str, top_k: int = 5, min_score: float = 0.2, stream: bool = False, summarize: bool = False) -> Dict[str, Any]:\n",
    "        # Retrieve relevant documents\n",
    "        results = self.retriever.retrieve(question, top_k=top_k, score_threshold=min_score)\n",
    "        if not results:\n",
    "            answer = \"No relevant context found.\"\n",
    "            sources = []\n",
    "            context = \"\"\n",
    "        else:\n",
    "            context = \"\\n\\n\".join([doc['content'] for doc in results])\n",
    "            sources = [{\n",
    "                'source': doc['metadata'].get('source_file', doc['metadata'].get('source', 'unknown')),\n",
    "                'page': doc['metadata'].get('page', 'unknown'),\n",
    "                'score': doc['similarity_score'],\n",
    "                'preview': doc['content'][:120] + '...'\n",
    "            } for doc in results]\n",
    "            # Streaming answer simulation\n",
    "            prompt = f\"\"\"Use the following context to answer the question concisely.\\nContext:\\n{context}\\n\\nQuestion: {question}\\n\\nAnswer:\"\"\"\n",
    "            if stream:\n",
    "                print(\"Streaming answer:\")\n",
    "                for i in range(0, len(prompt), 80):\n",
    "                    print(prompt[i:i+80], end='', flush=True)\n",
    "                    time.sleep(0.05)\n",
    "                print()\n",
    "            response = self.llm.invoke([prompt.format(context=context, question=question)])\n",
    "            answer = response.content\n",
    "\n",
    "        # Add citations to answer\n",
    "        citations = [f\"[{i+1}] {src['source']} (page {src['page']})\" for i, src in enumerate(sources)]\n",
    "        answer_with_citations = answer + \"\\n\\nCitations:\\n\" + \"\\n\".join(citations) if citations else answer\n",
    "\n",
    "        # Optionally summarize answer\n",
    "        summary = None\n",
    "        if summarize and answer:\n",
    "            summary_prompt = f\"Summarize the following answer in 2 sentences:\\n{answer}\"\n",
    "            summary_resp = self.llm.invoke([summary_prompt])\n",
    "            summary = summary_resp.content\n",
    "\n",
    "        # Store query history\n",
    "        self.history.append({\n",
    "            'question': question,\n",
    "            'answer': answer,\n",
    "            'sources': sources,\n",
    "            'summary': summary\n",
    "        })\n",
    "\n",
    "        return {\n",
    "            'question': question,\n",
    "            'answer': answer_with_citations,\n",
    "            'sources': sources,\n",
    "            'summary': summary,\n",
    "            'history': self.history\n",
    "        }\n",
    "\n",
    "# Example usage:\n",
    "adv_rag = AdvancedRAGPipeline(rag_retriever, llm)\n",
    "result = adv_rag.query(\"what is attention is all you need\", top_k=3, min_score=0.1, stream=True, summarize=True)\n",
    "print(\"\\nFinal Answer:\", result['answer'])\n",
    "print(\"Summary:\", result['summary'])\n",
    "print(\"History:\", result['history'][-1])"
   ]
  }
 ],
 "metadata": {
  "kernelspec": {
   "display_name": "RAG",
   "language": "python",
   "name": "python3"
  },
  "language_info": {
   "codemirror_mode": {
    "name": "ipython",
    "version": 3
   },
   "file_extension": ".py",
   "mimetype": "text/x-python",
   "name": "python",
   "nbconvert_exporter": "python",
   "pygments_lexer": "ipython3",
   "version": "3.13.7"
  }
 },
 "nbformat": 4,
 "nbformat_minor": 5
}
