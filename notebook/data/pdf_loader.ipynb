{
 "cells": [
  {
   "cell_type": "markdown",
   "id": "c7985571",
   "metadata": {},
   "source": [
    "### RAG Pipelines- Data Ingestion to Vector DB Pipeline"
   ]
  },
  {
   "cell_type": "markdown",
   "id": "0535f98a",
   "metadata": {},
   "source": []
  },
  {
   "cell_type": "code",
   "execution_count": 38,
   "id": "855872cd",
   "metadata": {},
   "outputs": [],
   "source": [
    "import os\n",
    "from langchain_community.document_loaders import PyPDFLoader, PyMuPDFLoader\n",
    "from langchain.text_splitter import RecursiveCharacterTextSplitter\n",
    "from pathlib import Path"
   ]
  },
  {
   "cell_type": "code",
   "execution_count": 39,
   "id": "3dd4604b",
   "metadata": {},
   "outputs": [
    {
     "name": "stdout",
     "output_type": "stream",
     "text": [
      "Found 1 PDF files to process\n",
      "\n",
      "Processing: ERP.pdf\n",
      "  ✓ Loaded 2 pages\n",
      "\n",
      "Total documents loaded: 2\n"
     ]
    }
   ],
   "source": [
    "### Read all the pdf's inside the directory\n",
    "def process_all_pdfs(pdf_directory):\n",
    "    \"\"\"Process all PDF files in a directory\"\"\"\n",
    "    all_documents = []\n",
    "    pdf_dir = Path(pdf_directory)\n",
    "    \n",
    "    # Find all PDF files recursively\n",
    "    pdf_files = list(pdf_dir.glob(\"**/*.pdf\"))\n",
    "    \n",
    "    print(f\"Found {len(pdf_files)} PDF files to process\")\n",
    "    \n",
    "    for pdf_file in pdf_files:\n",
    "        print(f\"\\nProcessing: {pdf_file.name}\")\n",
    "        try:\n",
    "            loader = PyPDFLoader(str(pdf_file))\n",
    "            documents = loader.load()\n",
    "            \n",
    "            # Add source information to metadata\n",
    "            for doc in documents:\n",
    "                doc.metadata['source_file'] = pdf_file.name\n",
    "                doc.metadata['file_type'] = 'pdf'\n",
    "            \n",
    "            all_documents.extend(documents)\n",
    "            print(f\"  ✓ Loaded {len(documents)} pages\")\n",
    "            \n",
    "        except Exception as e:\n",
    "            print(f\"  ✗ Error: {e}\")\n",
    "    \n",
    "    print(f\"\\nTotal documents loaded: {len(all_documents)}\")\n",
    "    return all_documents\n",
    "\n",
    "# Process all PDFs in the data directory\n",
    "all_pdf_documents = process_all_pdfs(\"../data\")"
   ]
  },
  {
   "cell_type": "code",
   "execution_count": 40,
   "id": "e1939578",
   "metadata": {},
   "outputs": [],
   "source": [
    "import numpy as np\n",
    "from sentence_transformers import SentenceTransformer\n",
    "import chromadb\n",
    "from chromadb.config import Settings\n",
    "import uuid\n",
    "from typing import List, Dict, Any, Tuple\n",
    "from sklearn.metrics.pairwise import cosine_similarity"
   ]
  },
  {
   "cell_type": "code",
   "execution_count": 41,
   "id": "d4fb9dc6",
   "metadata": {},
   "outputs": [],
   "source": [
    "### Text splitting get into chunks\n",
    "\n",
    "def split_documents(documents,chunk_size=1000,chunk_overlap=200):\n",
    "    \"\"\"Split documents into smaller chunks for better RAG performance\"\"\"\n",
    "    text_splitter = RecursiveCharacterTextSplitter(\n",
    "        chunk_size=chunk_size,\n",
    "        chunk_overlap=chunk_overlap,\n",
    "        length_function=len,\n",
    "        separators=[\"\\n\\n\", \"\\n\", \" \", \"\"]\n",
    "    )\n",
    "    split_docs = text_splitter.split_documents(documents)\n",
    "    print(f\"Split {len(documents)} documents into {len(split_docs)} chunks\")\n",
    "    \n",
    "    # Show example of a chunk\n",
    "    if split_docs:\n",
    "        print(f\"\\nExample chunk:\")\n",
    "        print(f\"Content: {split_docs[0].page_content[:200]}...\")\n",
    "        print(f\"Metadata: {split_docs[0].metadata}\")\n",
    "    \n",
    "    return split_docs"
   ]
  },
  {
   "cell_type": "code",
   "execution_count": 42,
   "id": "9d19545e",
   "metadata": {},
   "outputs": [
    {
     "name": "stdout",
     "output_type": "stream",
     "text": [
      "Split 2 documents into 4 chunks\n",
      "\n",
      "Example chunk:\n",
      "Content: ERP-based Integrated Student Management System (ISMS) \n",
      "Using LEO satellite connectivity + modem for internet access \n",
      "(instead of expensive fiber / terrestrial lines) \n",
      "1. Project Concept \n",
      "You’re solvin...\n",
      "Metadata: {'producer': 'www.ilovepdf.com', 'creator': 'Microsoft® Word 2016', 'creationdate': '2025-09-11T13:57:05+00:00', 'author': 'Ans Khan', 'moddate': '2025-09-11T13:57:05+00:00', 'source': '..\\\\data\\\\ERP.pdf', 'total_pages': 2, 'page': 0, 'page_label': '1', 'source_file': 'ERP.pdf', 'file_type': 'pdf'}\n"
     ]
    },
    {
     "data": {
      "text/plain": [
       "[Document(metadata={'producer': 'www.ilovepdf.com', 'creator': 'Microsoft® Word 2016', 'creationdate': '2025-09-11T13:57:05+00:00', 'author': 'Ans Khan', 'moddate': '2025-09-11T13:57:05+00:00', 'source': '..\\\\data\\\\ERP.pdf', 'total_pages': 2, 'page': 0, 'page_label': '1', 'source_file': 'ERP.pdf', 'file_type': 'pdf'}, page_content='ERP-based Integrated Student Management System (ISMS) \\nUsing LEO satellite connectivity + modem for internet access \\n(instead of expensive fiber / terrestrial lines) \\n1. Project Concept \\nYou’re solving the problem of fragmented records (admission, fees, hostel, exams) in \\ncolleges by creating a low-cost ERP solution built on cloud office tools + satellite internet \\nfor connectivity. \\nCore Features \\n\\uf0b7 Admissions → Online forms feed data into a central database. \\n\\uf0b7 Fees → Auto-generated receipts + linked to student records. \\n\\uf0b7 Hostel/Library → Real-time occupancy tracking, record updates. \\n\\uf0b7 Exams → Marks entry, attempts, result generation. \\n\\uf0b7 Dashboards → Key performance indicators for administrators. \\n\\uf0b7 Security → Role-based access, backups, and audit trails. \\n2. Infrastructure (with LEO Satellites) \\n**Since some colleges (especially rural or remote) lack reliable internet, your ERP will run \\nvia satellite modem + LEO satellites. \\nRequirements \\n1. Receiver Dish + Modem'),\n",
       " Document(metadata={'producer': 'www.ilovepdf.com', 'creator': 'Microsoft® Word 2016', 'creationdate': '2025-09-11T13:57:05+00:00', 'author': 'Ans Khan', 'moddate': '2025-09-11T13:57:05+00:00', 'source': '..\\\\data\\\\ERP.pdf', 'total_pages': 2, 'page': 0, 'page_label': '1', 'source_file': 'ERP.pdf', 'file_type': 'pdf'}, page_content='**Since some colleges (especially rural or remote) lack reliable internet, your ERP will run \\nvia satellite modem + LEO satellites. \\nRequirements \\n1. Receiver Dish + Modem \\no Provided by satellite ISP (e.g., Starlink Kit). \\no Connects to router → Wi-Fi/LAN → ERP system. \\n2. Cloud Office Suite \\no Google Workspace (Sheets, Forms, Apps Script, Data Studio). \\no Microsoft 365 (Excel Online, Power Automate, Power BI). \\no Open-source alternatives (Nextcloud + OnlyOffice). \\n3. Backend Database (if needed) \\no Google Sheets (lightweight, free). \\no Airtable / Supabase  \\no MySQL/PostgreSQL on a cloud VM (if ERP grows).'),\n",
       " Document(metadata={'producer': 'www.ilovepdf.com', 'creator': 'Microsoft® Word 2016', 'creationdate': '2025-09-11T13:57:05+00:00', 'author': 'Ans Khan', 'moddate': '2025-09-11T13:57:05+00:00', 'source': '..\\\\data\\\\ERP.pdf', 'total_pages': 2, 'page': 1, 'page_label': '2', 'source_file': 'ERP.pdf', 'file_type': 'pdf'}, page_content='3. Workflow Integration \\n1. Admission Intake → Google Forms → central student database (Google \\nSheets/Airtable). \\n2. Fee Collection → Payment integration (UPI/PayPal/Razorpay) → Auto receipt → \\nUpdates central DB. \\n3. Hostel Allocation → Online form + auto seat availability update in DB. \\n4. Library/Exams → Staff enter marks, book loans, etc. → Updates same DB. \\n5. Dashboards → Google Data Studio / Power BI → Real-time analytics. \\n6. Connectivity → All data syncs through LEO satellite internet → Works in remote \\ncolleges. \\n4. Challenges & Solutions \\nChallenge Why it matters Possible Solution \\nLatency & \\nBandwidth \\nEven LEO has 30–50 ms latency; bulk \\ndata transfer could slow. \\nUse lightweight apps (Sheets, Forms, \\ndashboards) instead of heavy ERP software. \\nPower \\nBackup Satellite modem + router need power. Use UPS/solar backup for rural colleges. \\nData \\nSecurity Student & financial data are sensitive. Role-based access + encrypted cloud \\nstorage. \\nTraining'),\n",
       " Document(metadata={'producer': 'www.ilovepdf.com', 'creator': 'Microsoft® Word 2016', 'creationdate': '2025-09-11T13:57:05+00:00', 'author': 'Ans Khan', 'moddate': '2025-09-11T13:57:05+00:00', 'source': '..\\\\data\\\\ERP.pdf', 'total_pages': 2, 'page': 1, 'page_label': '2', 'source_file': 'ERP.pdf', 'file_type': 'pdf'}, page_content='Backup Satellite modem + router need power. Use UPS/solar backup for rural colleges. \\nData \\nSecurity Student & financial data are sensitive. Role-based access + encrypted cloud \\nstorage. \\nTraining \\nStaff Many staff are only used to ledgers. Keep UI simple, provide short training. \\nCost Proprietary ERP is expensive. Use free/low-cost cloud office suites + \\nexisting satellite kits. \\n4. Expected Outcome  \\nA prototype ERP system using Google Workspace / Microsoft 365. \\n\\uf0b7 Real-time dashboards showing admissions, fees, hostel, exams. \\n\\uf0b7 Demonstration that satellite internet makes it accessible anywhere, especially for \\nrural/public colleges. \\n\\uf0b7 Cost-effective → No servers, no expensive ERP license, just modem + dish + cloud \\napps.')]"
      ]
     },
     "execution_count": 42,
     "metadata": {},
     "output_type": "execute_result"
    }
   ],
   "source": [
    "chunks=split_documents(all_pdf_documents)\n",
    "chunks"
   ]
  },
  {
   "cell_type": "code",
   "execution_count": 43,
   "id": "bfbf64bb",
   "metadata": {},
   "outputs": [
    {
     "name": "stdout",
     "output_type": "stream",
     "text": [
      "Loading embedding model: all-MiniLM-L6-v2\n",
      "Model loaded successfully. Embedding dimension: 384\n"
     ]
    },
    {
     "data": {
      "text/plain": [
       "<__main__.EmbeddingManager at 0x27e4a8f12b0>"
      ]
     },
     "execution_count": 43,
     "metadata": {},
     "output_type": "execute_result"
    }
   ],
   "source": [
    "class EmbeddingManager:\n",
    "    \"\"\"Handles document embedding generation using SentenceTransformer\"\"\"\n",
    "    \n",
    "    def __init__(self, model_name: str = \"all-MiniLM-L6-v2\"):\n",
    "        \"\"\"\n",
    "        Initialize the embedding manager\n",
    "        \n",
    "        Args:\n",
    "            model_name: HuggingFace model name for sentence embeddings\n",
    "        \"\"\"\n",
    "        self.model_name = model_name\n",
    "        self.model = None\n",
    "        self._load_model()\n",
    "    def _load_model(self):\n",
    "        \"\"\"Load the SentenceTransformer model\"\"\"\n",
    "        try:\n",
    "            print(f\"Loading embedding model: {self.model_name}\")\n",
    "            self.model = SentenceTransformer(self.model_name)\n",
    "            print(f\"Model loaded successfully. Embedding dimension: {self.model.get_sentence_embedding_dimension()}\")\n",
    "        except Exception as e:\n",
    "            print(f\"Error loading model {self.model_name}: {e}\")\n",
    "            raise   \n",
    "    def generate_embeddings(self, texts: List[str]) -> np.ndarray:\n",
    "        \"\"\"\n",
    "        Generate embeddings for a list of texts\n",
    "        \n",
    "        Args:\n",
    "            texts: List of text strings to embed\n",
    "            \n",
    "        Returns:\n",
    "            numpy array of embeddings with shape (len(texts), embedding_dim)\n",
    "        \"\"\"\n",
    "        if not self.model:\n",
    "            raise ValueError(\"Model not loaded\")\n",
    "        \n",
    "        print(f\"Generating embeddings for {len(texts)} texts...\")\n",
    "        embeddings = self.model.encode(texts, show_progress_bar=True)\n",
    "        print(f\"Generated embeddings with shape: {embeddings.shape}\")\n",
    "        return embeddings\n",
    "    \n",
    "## Initialize Embedding Manager\n",
    "embedding_manager = EmbeddingManager()\n",
    "embedding_manager"
   ]
  },
  {
   "cell_type": "markdown",
   "id": "4a9da4aa",
   "metadata": {},
   "source": [
    "### Vector Store"
   ]
  },
  {
   "cell_type": "code",
   "execution_count": 44,
   "id": "9d332b3d",
   "metadata": {},
   "outputs": [
    {
     "name": "stdout",
     "output_type": "stream",
     "text": [
      "Vector store initialized. Collection: pdf_documents\n",
      "Existing documents in collection: 4\n"
     ]
    },
    {
     "data": {
      "text/plain": [
       "<__main__.VectorStore at 0x27e4a8f0440>"
      ]
     },
     "execution_count": 44,
     "metadata": {},
     "output_type": "execute_result"
    }
   ],
   "source": [
    "class VectorStore:\n",
    "    \"\"\"Manages document embeddings in a ChromaDB vector store\"\"\"\n",
    "    \n",
    "    def __init__(self, collection_name: str = \"pdf_documents\", persist_directory: str = \"../data/vector_store\"):\n",
    "        \"\"\"\n",
    "        Initialize the vector store\n",
    "        \n",
    "        Args:\n",
    "            collection_name: Name of the ChromaDB collection\n",
    "            persist_directory: Directory to persist the vector store\n",
    "        \"\"\"\n",
    "        self.collection_name = collection_name\n",
    "        self.persist_directory = persist_directory\n",
    "        self.client = None\n",
    "        self.collection = None\n",
    "        self._initialize_store()\n",
    "\n",
    "    def _initialize_store(self):\n",
    "        \"\"\"Initialize ChromaDB client and collection\"\"\"\n",
    "        try:\n",
    "            # Create persistent ChromaDB client\n",
    "            os.makedirs(self.persist_directory, exist_ok=True)\n",
    "            self.client = chromadb.PersistentClient(path=self.persist_directory)\n",
    "            \n",
    "            # Get or create collection\n",
    "            self.collection = self.client.get_or_create_collection(\n",
    "                name=self.collection_name,\n",
    "                metadata={\"description\": \"PDF document embeddings for RAG\"}\n",
    "            )\n",
    "            print(f\"Vector store initialized. Collection: {self.collection_name}\")\n",
    "            print(f\"Existing documents in collection: {self.collection.count()}\")\n",
    "            \n",
    "        except Exception as e:\n",
    "            print(f\"Error initializing vector store: {e}\")\n",
    "            raise\n",
    "\n",
    "    def add_documents(self, documents: List[Any], embeddings: np.ndarray):\n",
    "        \"\"\"\n",
    "        Add documents and their embeddings to the vector store\n",
    "        \n",
    "        Args:\n",
    "            documents: List of LangChain documents\n",
    "            embeddings: Corresponding embeddings for the documents\n",
    "        \"\"\"\n",
    "        if len(documents) != len(embeddings):\n",
    "            raise ValueError(\"Number of documents must match number of embeddings\")\n",
    "        \n",
    "        print(f\"Adding {len(documents)} documents to vector store...\")\n",
    "        \n",
    "        # Prepare data for ChromaDB\n",
    "        ids = []\n",
    "        metadatas = []\n",
    "        documents_text = []\n",
    "        embeddings_list = []\n",
    "        \n",
    "        for i, (doc, embedding) in enumerate(zip(documents, embeddings)):\n",
    "            # Generate unique ID\n",
    "            doc_id = f\"doc_{uuid.uuid4().hex[:8]}_{i}\"\n",
    "            ids.append(doc_id)\n",
    "            \n",
    "            # Prepare metadata\n",
    "            metadata = dict(doc.metadata)\n",
    "            metadata['doc_index'] = i\n",
    "            metadata['content_length'] = len(doc.page_content)\n",
    "            metadatas.append(metadata)\n",
    "            \n",
    "            # Document content\n",
    "            documents_text.append(doc.page_content)\n",
    "            \n",
    "            # Embedding\n",
    "            embeddings_list.append(embedding.tolist())\n",
    "        \n",
    "        # Add to collection\n",
    "        try:\n",
    "            self.collection.add(\n",
    "                ids=ids,\n",
    "                embeddings=embeddings_list,\n",
    "                metadatas=metadatas,\n",
    "                documents=documents_text\n",
    "            )\n",
    "            print(f\"Successfully added {len(documents)} documents to vector store\")\n",
    "            print(f\"Total documents in collection: {self.collection.count()}\")\n",
    "            \n",
    "        except Exception as e:\n",
    "            print(f\"Error adding documents to vector store: {e}\")\n",
    "            raise\n",
    "\n",
    "vectorstore=VectorStore()\n",
    "vectorstore\n",
    "    "
   ]
  },
  {
   "cell_type": "code",
   "execution_count": 45,
   "id": "41160d38",
   "metadata": {},
   "outputs": [
    {
     "data": {
      "text/plain": [
       "[Document(metadata={'producer': 'www.ilovepdf.com', 'creator': 'Microsoft® Word 2016', 'creationdate': '2025-09-11T13:57:05+00:00', 'author': 'Ans Khan', 'moddate': '2025-09-11T13:57:05+00:00', 'source': '..\\\\data\\\\ERP.pdf', 'total_pages': 2, 'page': 0, 'page_label': '1', 'source_file': 'ERP.pdf', 'file_type': 'pdf'}, page_content='ERP-based Integrated Student Management System (ISMS) \\nUsing LEO satellite connectivity + modem for internet access \\n(instead of expensive fiber / terrestrial lines) \\n1. Project Concept \\nYou’re solving the problem of fragmented records (admission, fees, hostel, exams) in \\ncolleges by creating a low-cost ERP solution built on cloud office tools + satellite internet \\nfor connectivity. \\nCore Features \\n\\uf0b7 Admissions → Online forms feed data into a central database. \\n\\uf0b7 Fees → Auto-generated receipts + linked to student records. \\n\\uf0b7 Hostel/Library → Real-time occupancy tracking, record updates. \\n\\uf0b7 Exams → Marks entry, attempts, result generation. \\n\\uf0b7 Dashboards → Key performance indicators for administrators. \\n\\uf0b7 Security → Role-based access, backups, and audit trails. \\n2. Infrastructure (with LEO Satellites) \\n**Since some colleges (especially rural or remote) lack reliable internet, your ERP will run \\nvia satellite modem + LEO satellites. \\nRequirements \\n1. Receiver Dish + Modem'),\n",
       " Document(metadata={'producer': 'www.ilovepdf.com', 'creator': 'Microsoft® Word 2016', 'creationdate': '2025-09-11T13:57:05+00:00', 'author': 'Ans Khan', 'moddate': '2025-09-11T13:57:05+00:00', 'source': '..\\\\data\\\\ERP.pdf', 'total_pages': 2, 'page': 0, 'page_label': '1', 'source_file': 'ERP.pdf', 'file_type': 'pdf'}, page_content='**Since some colleges (especially rural or remote) lack reliable internet, your ERP will run \\nvia satellite modem + LEO satellites. \\nRequirements \\n1. Receiver Dish + Modem \\no Provided by satellite ISP (e.g., Starlink Kit). \\no Connects to router → Wi-Fi/LAN → ERP system. \\n2. Cloud Office Suite \\no Google Workspace (Sheets, Forms, Apps Script, Data Studio). \\no Microsoft 365 (Excel Online, Power Automate, Power BI). \\no Open-source alternatives (Nextcloud + OnlyOffice). \\n3. Backend Database (if needed) \\no Google Sheets (lightweight, free). \\no Airtable / Supabase  \\no MySQL/PostgreSQL on a cloud VM (if ERP grows).'),\n",
       " Document(metadata={'producer': 'www.ilovepdf.com', 'creator': 'Microsoft® Word 2016', 'creationdate': '2025-09-11T13:57:05+00:00', 'author': 'Ans Khan', 'moddate': '2025-09-11T13:57:05+00:00', 'source': '..\\\\data\\\\ERP.pdf', 'total_pages': 2, 'page': 1, 'page_label': '2', 'source_file': 'ERP.pdf', 'file_type': 'pdf'}, page_content='3. Workflow Integration \\n1. Admission Intake → Google Forms → central student database (Google \\nSheets/Airtable). \\n2. Fee Collection → Payment integration (UPI/PayPal/Razorpay) → Auto receipt → \\nUpdates central DB. \\n3. Hostel Allocation → Online form + auto seat availability update in DB. \\n4. Library/Exams → Staff enter marks, book loans, etc. → Updates same DB. \\n5. Dashboards → Google Data Studio / Power BI → Real-time analytics. \\n6. Connectivity → All data syncs through LEO satellite internet → Works in remote \\ncolleges. \\n4. Challenges & Solutions \\nChallenge Why it matters Possible Solution \\nLatency & \\nBandwidth \\nEven LEO has 30–50 ms latency; bulk \\ndata transfer could slow. \\nUse lightweight apps (Sheets, Forms, \\ndashboards) instead of heavy ERP software. \\nPower \\nBackup Satellite modem + router need power. Use UPS/solar backup for rural colleges. \\nData \\nSecurity Student & financial data are sensitive. Role-based access + encrypted cloud \\nstorage. \\nTraining'),\n",
       " Document(metadata={'producer': 'www.ilovepdf.com', 'creator': 'Microsoft® Word 2016', 'creationdate': '2025-09-11T13:57:05+00:00', 'author': 'Ans Khan', 'moddate': '2025-09-11T13:57:05+00:00', 'source': '..\\\\data\\\\ERP.pdf', 'total_pages': 2, 'page': 1, 'page_label': '2', 'source_file': 'ERP.pdf', 'file_type': 'pdf'}, page_content='Backup Satellite modem + router need power. Use UPS/solar backup for rural colleges. \\nData \\nSecurity Student & financial data are sensitive. Role-based access + encrypted cloud \\nstorage. \\nTraining \\nStaff Many staff are only used to ledgers. Keep UI simple, provide short training. \\nCost Proprietary ERP is expensive. Use free/low-cost cloud office suites + \\nexisting satellite kits. \\n4. Expected Outcome  \\nA prototype ERP system using Google Workspace / Microsoft 365. \\n\\uf0b7 Real-time dashboards showing admissions, fees, hostel, exams. \\n\\uf0b7 Demonstration that satellite internet makes it accessible anywhere, especially for \\nrural/public colleges. \\n\\uf0b7 Cost-effective → No servers, no expensive ERP license, just modem + dish + cloud \\napps.')]"
      ]
     },
     "execution_count": 45,
     "metadata": {},
     "output_type": "execute_result"
    }
   ],
   "source": [
    "chunks"
   ]
  },
  {
   "cell_type": "code",
   "execution_count": 46,
   "id": "912bace0",
   "metadata": {},
   "outputs": [
    {
     "name": "stdout",
     "output_type": "stream",
     "text": [
      "Generating embeddings for 4 texts...\n"
     ]
    },
    {
     "name": "stderr",
     "output_type": "stream",
     "text": [
      "Batches: 100%|██████████| 1/1 [00:00<00:00,  3.67it/s]"
     ]
    },
    {
     "name": "stdout",
     "output_type": "stream",
     "text": [
      "Generated embeddings with shape: (4, 384)\n",
      "Adding 4 documents to vector store...\n",
      "Successfully added 4 documents to vector store\n",
      "Total documents in collection: 8\n"
     ]
    },
    {
     "name": "stderr",
     "output_type": "stream",
     "text": [
      "\n"
     ]
    }
   ],
   "source": [
    "### Convert the text to embeddings\n",
    "texts=[doc.page_content for doc in chunks]\n",
    "\n",
    "## Generate the Embeddings\n",
    "\n",
    "embeddings=embedding_manager.generate_embeddings(texts)\n",
    "\n",
    "##store int he vector dtaabase\n",
    "vectorstore.add_documents(chunks,embeddings)"
   ]
  },
  {
   "cell_type": "markdown",
   "id": "875758a1",
   "metadata": {},
   "source": [
    "### Retriever Pipeline From VectorStore"
   ]
  },
  {
   "cell_type": "code",
   "execution_count": 47,
   "id": "11bc4803",
   "metadata": {},
   "outputs": [],
   "source": [
    "class RAGRetriever:\n",
    "    \"\"\"Handles query-based retrieval from the vector store\"\"\"\n",
    "    \n",
    "    def __init__(self, vector_store: VectorStore, embedding_manager: EmbeddingManager):\n",
    "        \"\"\"\n",
    "        Initialize the retriever\n",
    "        \n",
    "        Args:\n",
    "            vector_store: Vector store containing document embeddings\n",
    "            embedding_manager: Manager for generating query embeddings\n",
    "        \"\"\"\n",
    "        self.vector_store = vector_store\n",
    "        self.embedding_manager = embedding_manager\n",
    "\n",
    "\n",
    "\n",
    "    def retrieve(self, query: str, top_k: int = 5, score_threshold: float = 0.0) -> List[Dict[str, Any]]:\n",
    "        \"\"\"\n",
    "        Retrieve relevant documents for a query\n",
    "        \n",
    "        Args:\n",
    "            query: The search query\n",
    "            top_k: Number of top results to return\n",
    "            score_threshold: Minimum similarity score threshold\n",
    "            \n",
    "        Returns:\n",
    "            List of dictionaries containing retrieved documents and metadata\n",
    "        \"\"\"\n",
    "        print(f\"Retrieving documents for query: '{query}'\")\n",
    "        print(f\"Top K: {top_k}, Score threshold: {score_threshold}\")\n",
    "        \n",
    "        # Generate query embedding\n",
    "        query_embedding = self.embedding_manager.generate_embeddings([query])[0]\n",
    "        \n",
    "        # Search in vector store\n",
    "        try:\n",
    "            results = self.vector_store.collection.query(\n",
    "                query_embeddings=[query_embedding.tolist()],\n",
    "                n_results=top_k\n",
    "            )\n",
    "            \n",
    "            # Process results\n",
    "            retrieved_docs = []\n",
    "            \n",
    "            if results['documents'] and results['documents'][0]:\n",
    "                documents = results['documents'][0]\n",
    "                metadatas = results['metadatas'][0]\n",
    "                distances = results['distances'][0]\n",
    "                ids = results['ids'][0]\n",
    "                \n",
    "                for i, (doc_id, document, metadata, distance) in enumerate(zip(ids, documents, metadatas, distances)):\n",
    "                    # Convert distance to similarity score (ChromaDB uses cosine distance)\n",
    "                    similarity_score = 1 - distance\n",
    "                    \n",
    "                    if similarity_score >= score_threshold:\n",
    "                        retrieved_docs.append({\n",
    "                            'id': doc_id,\n",
    "                            'content': document,\n",
    "                            'metadata': metadata,\n",
    "                            'similarity_score': similarity_score,\n",
    "                            'distance': distance,\n",
    "                            'rank': i + 1\n",
    "                        })\n",
    "                \n",
    "                print(f\"Retrieved {len(retrieved_docs)} documents (after filtering)\")\n",
    "            else:\n",
    "                print(\"No documents found\")\n",
    "            \n",
    "            return retrieved_docs\n",
    "            \n",
    "        except Exception as e:\n",
    "            print(f\"Error during retrieval: {e}\")\n",
    "            return []\n",
    "\n",
    "\n",
    "rag_retriever = RAGRetriever(vectorstore, embedding_manager)\n"
   ]
  },
  {
   "cell_type": "code",
   "execution_count": 48,
   "id": "6e565fe0",
   "metadata": {},
   "outputs": [
    {
     "data": {
      "text/plain": [
       "<__main__.RAGRetriever at 0x27e4a8f1550>"
      ]
     },
     "execution_count": 48,
     "metadata": {},
     "output_type": "execute_result"
    }
   ],
   "source": [
    "rag_retriever"
   ]
  },
  {
   "cell_type": "code",
   "execution_count": 50,
   "id": "86cd7d7a",
   "metadata": {},
   "outputs": [
    {
     "name": "stdout",
     "output_type": "stream",
     "text": [
      "Retrieving documents for query: 'what is ERP is all you need'\n",
      "Top K: 5, Score threshold: 0.0\n",
      "Generating embeddings for 1 texts...\n"
     ]
    },
    {
     "name": "stderr",
     "output_type": "stream",
     "text": [
      "Batches: 100%|██████████| 1/1 [00:00<00:00, 47.38it/s]"
     ]
    },
    {
     "name": "stdout",
     "output_type": "stream",
     "text": [
      "Generated embeddings with shape: (1, 384)\n",
      "Retrieved 5 documents (after filtering)\n"
     ]
    },
    {
     "name": "stderr",
     "output_type": "stream",
     "text": [
      "\n"
     ]
    },
    {
     "data": {
      "text/plain": [
       "[{'id': 'doc_23f16185_1',\n",
       "  'content': '**Since some colleges (especially rural or remote) lack reliable internet, your ERP will run \\nvia satellite modem + LEO satellites. \\nRequirements \\n1. Receiver Dish + Modem \\no Provided by satellite ISP (e.g., Starlink Kit). \\no Connects to router → Wi-Fi/LAN → ERP system. \\n2. Cloud Office Suite \\no Google Workspace (Sheets, Forms, Apps Script, Data Studio). \\no Microsoft 365 (Excel Online, Power Automate, Power BI). \\no Open-source alternatives (Nextcloud + OnlyOffice). \\n3. Backend Database (if needed) \\no Google Sheets (lightweight, free). \\no Airtable / Supabase  \\no MySQL/PostgreSQL on a cloud VM (if ERP grows).',\n",
       "  'metadata': {'source_file': 'ERP.pdf',\n",
       "   'source': '..\\\\data\\\\ERP.pdf',\n",
       "   'page': 0,\n",
       "   'moddate': '2025-09-11T13:57:05+00:00',\n",
       "   'content_length': 614,\n",
       "   'creationdate': '2025-09-11T13:57:05+00:00',\n",
       "   'file_type': 'pdf',\n",
       "   'total_pages': 2,\n",
       "   'creator': 'Microsoft® Word 2016',\n",
       "   'producer': 'www.ilovepdf.com',\n",
       "   'doc_index': 1,\n",
       "   'author': 'Ans Khan',\n",
       "   'page_label': '1'},\n",
       "  'similarity_score': 0.15914583206176758,\n",
       "  'distance': 0.8408541679382324,\n",
       "  'rank': 1},\n",
       " {'id': 'doc_d375959e_1',\n",
       "  'content': '**Since some colleges (especially rural or remote) lack reliable internet, your ERP will run \\nvia satellite modem + LEO satellites. \\nRequirements \\n1. Receiver Dish + Modem \\no Provided by satellite ISP (e.g., Starlink Kit). \\no Connects to router → Wi-Fi/LAN → ERP system. \\n2. Cloud Office Suite \\no Google Workspace (Sheets, Forms, Apps Script, Data Studio). \\no Microsoft 365 (Excel Online, Power Automate, Power BI). \\no Open-source alternatives (Nextcloud + OnlyOffice). \\n3. Backend Database (if needed) \\no Google Sheets (lightweight, free). \\no Airtable / Supabase  \\no MySQL/PostgreSQL on a cloud VM (if ERP grows).',\n",
       "  'metadata': {'source_file': 'ERP.pdf',\n",
       "   'creator': 'Microsoft® Word 2016',\n",
       "   'author': 'Ans Khan',\n",
       "   'content_length': 614,\n",
       "   'file_type': 'pdf',\n",
       "   'doc_index': 1,\n",
       "   'producer': 'www.ilovepdf.com',\n",
       "   'creationdate': '2025-09-11T13:57:05+00:00',\n",
       "   'moddate': '2025-09-11T13:57:05+00:00',\n",
       "   'page_label': '1',\n",
       "   'page': 0,\n",
       "   'source': '..\\\\data\\\\ERP.pdf',\n",
       "   'total_pages': 2},\n",
       "  'similarity_score': 0.15914583206176758,\n",
       "  'distance': 0.8408541679382324,\n",
       "  'rank': 2},\n",
       " {'id': 'doc_d4c21380_3',\n",
       "  'content': 'Backup Satellite modem + router need power. Use UPS/solar backup for rural colleges. \\nData \\nSecurity Student & financial data are sensitive. Role-based access + encrypted cloud \\nstorage. \\nTraining \\nStaff Many staff are only used to ledgers. Keep UI simple, provide short training. \\nCost Proprietary ERP is expensive. Use free/low-cost cloud office suites + \\nexisting satellite kits. \\n4. Expected Outcome  \\nA prototype ERP system using Google Workspace / Microsoft 365. \\n\\uf0b7 Real-time dashboards showing admissions, fees, hostel, exams. \\n\\uf0b7 Demonstration that satellite internet makes it accessible anywhere, especially for \\nrural/public colleges. \\n\\uf0b7 Cost-effective → No servers, no expensive ERP license, just modem + dish + cloud \\napps.',\n",
       "  'metadata': {'creator': 'Microsoft® Word 2016',\n",
       "   'page_label': '2',\n",
       "   'file_type': 'pdf',\n",
       "   'doc_index': 3,\n",
       "   'total_pages': 2,\n",
       "   'source_file': 'ERP.pdf',\n",
       "   'content_length': 734,\n",
       "   'page': 1,\n",
       "   'author': 'Ans Khan',\n",
       "   'moddate': '2025-09-11T13:57:05+00:00',\n",
       "   'producer': 'www.ilovepdf.com',\n",
       "   'creationdate': '2025-09-11T13:57:05+00:00',\n",
       "   'source': '..\\\\data\\\\ERP.pdf'},\n",
       "  'similarity_score': 0.05390650033950806,\n",
       "  'distance': 0.9460934996604919,\n",
       "  'rank': 3},\n",
       " {'id': 'doc_90e1b82e_3',\n",
       "  'content': 'Backup Satellite modem + router need power. Use UPS/solar backup for rural colleges. \\nData \\nSecurity Student & financial data are sensitive. Role-based access + encrypted cloud \\nstorage. \\nTraining \\nStaff Many staff are only used to ledgers. Keep UI simple, provide short training. \\nCost Proprietary ERP is expensive. Use free/low-cost cloud office suites + \\nexisting satellite kits. \\n4. Expected Outcome  \\nA prototype ERP system using Google Workspace / Microsoft 365. \\n\\uf0b7 Real-time dashboards showing admissions, fees, hostel, exams. \\n\\uf0b7 Demonstration that satellite internet makes it accessible anywhere, especially for \\nrural/public colleges. \\n\\uf0b7 Cost-effective → No servers, no expensive ERP license, just modem + dish + cloud \\napps.',\n",
       "  'metadata': {'source_file': 'ERP.pdf',\n",
       "   'file_type': 'pdf',\n",
       "   'page_label': '2',\n",
       "   'creator': 'Microsoft® Word 2016',\n",
       "   'author': 'Ans Khan',\n",
       "   'total_pages': 2,\n",
       "   'moddate': '2025-09-11T13:57:05+00:00',\n",
       "   'producer': 'www.ilovepdf.com',\n",
       "   'doc_index': 3,\n",
       "   'content_length': 734,\n",
       "   'source': '..\\\\data\\\\ERP.pdf',\n",
       "   'creationdate': '2025-09-11T13:57:05+00:00',\n",
       "   'page': 1},\n",
       "  'similarity_score': 0.05390650033950806,\n",
       "  'distance': 0.9460934996604919,\n",
       "  'rank': 4},\n",
       " {'id': 'doc_9da17a24_0',\n",
       "  'content': 'ERP-based Integrated Student Management System (ISMS) \\nUsing LEO satellite connectivity + modem for internet access \\n(instead of expensive fiber / terrestrial lines) \\n1. Project Concept \\nYou’re solving the problem of fragmented records (admission, fees, hostel, exams) in \\ncolleges by creating a low-cost ERP solution built on cloud office tools + satellite internet \\nfor connectivity. \\nCore Features \\n\\uf0b7 Admissions → Online forms feed data into a central database. \\n\\uf0b7 Fees → Auto-generated receipts + linked to student records. \\n\\uf0b7 Hostel/Library → Real-time occupancy tracking, record updates. \\n\\uf0b7 Exams → Marks entry, attempts, result generation. \\n\\uf0b7 Dashboards → Key performance indicators for administrators. \\n\\uf0b7 Security → Role-based access, backups, and audit trails. \\n2. Infrastructure (with LEO Satellites) \\n**Since some colleges (especially rural or remote) lack reliable internet, your ERP will run \\nvia satellite modem + LEO satellites. \\nRequirements \\n1. Receiver Dish + Modem',\n",
       "  'metadata': {'source_file': 'ERP.pdf',\n",
       "   'creationdate': '2025-09-11T13:57:05+00:00',\n",
       "   'source': '..\\\\data\\\\ERP.pdf',\n",
       "   'content_length': 983,\n",
       "   'file_type': 'pdf',\n",
       "   'doc_index': 0,\n",
       "   'creator': 'Microsoft® Word 2016',\n",
       "   'producer': 'www.ilovepdf.com',\n",
       "   'moddate': '2025-09-11T13:57:05+00:00',\n",
       "   'page': 0,\n",
       "   'page_label': '1',\n",
       "   'total_pages': 2,\n",
       "   'author': 'Ans Khan'},\n",
       "  'similarity_score': 0.05181604623794556,\n",
       "  'distance': 0.9481839537620544,\n",
       "  'rank': 5}]"
      ]
     },
     "execution_count": 50,
     "metadata": {},
     "output_type": "execute_result"
    }
   ],
   "source": [
    "rag_retriever.retrieve(\"what is ERP is all you need\")"
   ]
  }
 ],
 "metadata": {
  "kernelspec": {
   "display_name": "RAG",
   "language": "python",
   "name": "python3"
  },
  "language_info": {
   "codemirror_mode": {
    "name": "ipython",
    "version": 3
   },
   "file_extension": ".py",
   "mimetype": "text/x-python",
   "name": "python",
   "nbconvert_exporter": "python",
   "pygments_lexer": "ipython3",
   "version": "3.13.7"
  }
 },
 "nbformat": 4,
 "nbformat_minor": 5
}
